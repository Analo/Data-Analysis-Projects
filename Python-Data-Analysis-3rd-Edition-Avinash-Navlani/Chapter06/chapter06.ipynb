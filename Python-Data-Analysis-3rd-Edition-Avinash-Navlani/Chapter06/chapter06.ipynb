{
 "cells": [
  {
   "cell_type": "markdown",
   "id": "66adb742",
   "metadata": {},
   "source": [
    "# Chapter 6 - Retrieving, Processing, and Storing Data\n",
    "\n",
    "## Overview\n",
    "In this chapter, I learned how data is ubiquitous and comes in various formats and sources, such as:\n",
    "- Web, IoT sensors, emails, FTP, and databases.\n",
    "- Lab experiments, election polls, marketing polls, and social surveys.\n",
    "\n",
    "I now understand the importance of handling diverse datasets as a critical skill for a data professional. This chapter helped me:\n",
    "1. Retrieve data in formats like CSV, Excel, JSON, HDF5, Parquet, and pickle.\n",
    "2. Store data before or after analysis.\n",
    "3. Access relational and NoSQL databases.\n",
    "\n",
    "### Key Concepts\n",
    "- **Relational Databases**: I learned about structured, schema-based storage (e.g., sqlite3, MySQL).\n",
    "- **NoSQL Databases**: I explored flexible, schema-free storage for big data and web applications (e.g., MongoDB, Cassandra, Redis).\n",
    "\n",
    "---\n",
    "\n",
    "## Topics Covered\n",
    "\n",
    "### 1. Reading and Writing CSV Files\n",
    "- I used **NumPy** for efficient handling of numerical data in CSV format.\n",
    "- I explored **pandas** for comprehensive support in reading/writing CSV files with advanced options.\n",
    "\n",
    "### 2. Reading and Writing Excel Files\n",
    "- I learned how to use pandas to handle `.xls` and `.xlsx` files for data analysis.\n",
    "\n",
    "### 3. Reading and Writing JSON\n",
    "- I now understand JSON as a lightweight data-interchange format.\n",
    "- I used pandas methods to read/write JSON files.\n",
    "\n",
    "### 4. Reading and Writing HDF5\n",
    "- I explored HDF5, a hierarchical data format for large datasets.\n",
    "- I used pandas to efficiently store and retrieve data in HDF5 format.\n",
    "\n",
    "### 5. Reading and Writing HTML Tables\n",
    "- I learned how to extract tabular data from HTML using pandas.\n",
    "\n",
    "### 6. Reading and Writing Parquet\n",
    "- I discovered Parquet as a columnar storage format optimized for analytics.\n",
    "- I used pandas to handle Parquet files for efficient data storage.\n",
    "\n",
    "### 7. Reading and Writing Pickle Objects\n",
    "- I learned how to serialize and deserialize Python objects using Pickle.\n",
    "- I used pandas to save/load DataFrames as pickle objects.\n",
    "\n",
    "---\n",
    "\n",
    "## Database Access\n",
    "\n",
    "### 1. Lightweight Access with sqlite3\n",
    "- I explored sqlite3 as a lightweight, file-based relational database.\n",
    "\n",
    "### 2. Reading and Writing Data from MySQL\n",
    "- I learned how to interact with MySQL, a popular relational database for structured data.\n",
    "\n",
    "### 3. Reading and Writing Data from MongoDB\n",
    "- I worked with MongoDB, a NoSQL database storing data in a document-oriented format.\n",
    "\n",
    "### 4. Reading and Writing Data from Cassandra\n",
    "- I explored Cassandra, a NoSQL database designed for high availability and scalability.\n",
    "\n",
    "### 5. Reading and Writing Data from Redis\n",
    "- I learned about Redis, an in-memory NoSQL database for fast data access.\n",
    "\n",
    "---\n",
    "\n",
    "## Additional Tools\n",
    "- I discovered **PonyORM**, an Object-Relational Mapping (ORM) library for Python that simplifies database interactions.\n",
    "\n",
    "---\n",
    "\n",
    "## Summary\n",
    "By the end of this chapter, I gained the skills to:\n",
    "1. Retrieve data from various formats and sources.\n",
    "2. Process and analyze data efficiently.\n",
    "3. Store data in relational and NoSQL databases.\n",
    "4. Use tools like pandas, NumPy, and database libraries for seamless data handling."
   ]
  },
  {
   "cell_type": "code",
   "execution_count": 1,
   "id": "ebaaa1ad",
   "metadata": {},
   "outputs": [
    {
     "name": "stdout",
     "output_type": "stream",
     "text": [
      "[[14. 32. 33.]\n",
      " [24. 45. 26.]\n",
      " [27. 38. 39.]]\n"
     ]
    }
   ],
   "source": [
    "# import genfromtxt function\n",
    "from numpy import genfromtxt\n",
    "# Read comma separated file\n",
    "product_data = genfromtxt('demo.csv', delimiter=',')\n",
    "# display initial 5 records\n",
    "print(product_data)"
   ]
  },
  {
   "cell_type": "code",
   "execution_count": 6,
   "id": "68706f6e",
   "metadata": {},
   "outputs": [],
   "source": [
    "# import pandas\n",
    "import pandas as pd\n",
    "# Read CSV file\n",
    "df=pd.read_csv('demo.csv', sep=',' , header=None)\n",
    "# Save DataFrame object in pickle file\n",
    "df.to_pickle('demo_obj.pkl')"
   ]
  },
  {
   "cell_type": "code",
   "execution_count": 7,
   "id": "f26dd8c4",
   "metadata": {},
   "outputs": [
    {
     "data": {
      "application/vnd.microsoft.datawrangler.viewer.v0+json": {
       "columns": [
        {
         "name": "index",
         "rawType": "int64",
         "type": "integer"
        },
        {
         "name": "0",
         "rawType": "int64",
         "type": "integer"
        },
        {
         "name": "1",
         "rawType": "int64",
         "type": "integer"
        },
        {
         "name": "2",
         "rawType": "int64",
         "type": "integer"
        }
       ],
       "conversionMethod": "pd.DataFrame",
       "ref": "3c24a69c-e67f-4a77-bbbd-e6aa08c85ace",
       "rows": [
        [
         "0",
         "14",
         "32",
         "33"
        ],
        [
         "1",
         "24",
         "45",
         "26"
        ],
        [
         "2",
         "27",
         "38",
         "39"
        ]
       ],
       "shape": {
        "columns": 3,
        "rows": 3
       }
      },
      "text/html": [
       "<div>\n",
       "<style scoped>\n",
       "    .dataframe tbody tr th:only-of-type {\n",
       "        vertical-align: middle;\n",
       "    }\n",
       "\n",
       "    .dataframe tbody tr th {\n",
       "        vertical-align: top;\n",
       "    }\n",
       "\n",
       "    .dataframe thead th {\n",
       "        text-align: right;\n",
       "    }\n",
       "</style>\n",
       "<table border=\"1\" class=\"dataframe\">\n",
       "  <thead>\n",
       "    <tr style=\"text-align: right;\">\n",
       "      <th></th>\n",
       "      <th>0</th>\n",
       "      <th>1</th>\n",
       "      <th>2</th>\n",
       "    </tr>\n",
       "  </thead>\n",
       "  <tbody>\n",
       "    <tr>\n",
       "      <th>0</th>\n",
       "      <td>14</td>\n",
       "      <td>32</td>\n",
       "      <td>33</td>\n",
       "    </tr>\n",
       "    <tr>\n",
       "      <th>1</th>\n",
       "      <td>24</td>\n",
       "      <td>45</td>\n",
       "      <td>26</td>\n",
       "    </tr>\n",
       "    <tr>\n",
       "      <th>2</th>\n",
       "      <td>27</td>\n",
       "      <td>38</td>\n",
       "      <td>39</td>\n",
       "    </tr>\n",
       "  </tbody>\n",
       "</table>\n",
       "</div>"
      ],
      "text/plain": [
       "    0   1   2\n",
       "0  14  32  33\n",
       "1  24  45  26\n",
       "2  27  38  39"
      ]
     },
     "execution_count": 7,
     "metadata": {},
     "output_type": "execute_result"
    }
   ],
   "source": [
    "#Read DataFrame object from pickle file\n",
    "pickle_obj=pd.read_pickle('demo_obj.pkl')\n",
    "# display initial 5 records\n",
    "pickle_obj.head()"
   ]
  },
  {
   "cell_type": "markdown",
   "id": "8b594edc",
   "metadata": {},
   "source": [
    "## Lightweight Access with SQLite3\n",
    "\n",
    "### Overview\n",
    "SQLite is an open-source, lightweight database engine that is widely used in mobile and desktop applications. It is known for its simplicity, efficiency, and ability to be embedded into applications.\n",
    "\n",
    "### Key Features\n",
    "- **Faster Execution**: Optimized for speed and performance.\n",
    "- **Lightweight Processing**: Minimal resource usage.\n",
    "- **Serverless Architecture**: No need for a separate server; runs as part of the application.\n",
    "- **ACID Compliance**: Ensures reliable transactions with Atomicity, Consistency, Isolation, and Durability.\n",
    "- **High Stability**: Reliable and robust for small-scale data storage.\n",
    "- **Embedded Relational Database**: Runs within the application, making it ideal for local data storage.\n",
    "\n",
    "### Use Cases\n",
    "- Best suited for small-scale data storage and processing.\n",
    "- Commonly used in mobile and desktop applications for local data management.\n",
    "\n",
    "### Advantages\n",
    "- Easy to use and integrate into applications.\n",
    "- Efficient and lightweight.\n",
    "- No need for additional installation as it is included in standard Python distributions.\n",
    "- Can store the database in a file or in RAM.\n",
    "\n",
    "### SQLite in Python\n",
    "- The `sqlite3` module in Python provides tools to read and write data to SQLite databases.\n",
    "- No third-party application server is required.\n",
    "- SQL queries can be executed directly using the `sqlite3` module.\n",
    "\n",
    "### Summary\n",
    "SQLite is a reliable, lightweight database solution for applications requiring local data storage. Its ease of use and integration with Python make it a popular choice for developers."
   ]
  },
  {
   "cell_type": "code",
   "execution_count": 12,
   "id": "b1a408e0",
   "metadata": {},
   "outputs": [
    {
     "name": "stdout",
     "output_type": "stream",
     "text": [
      "[(105, 57000)]\n"
     ]
    }
   ],
   "source": [
    "# Execute SQL query and create the database table\n",
    "cur.execute(\"create table if not exists emp(eid int,salary int)\")\n",
    "# Execute SQL query and Write the data into database\n",
    "cur.execute(\"insert into emp values(105, 57000)\")\n",
    "# Commit the transaction\n",
    "conn.commit()\n",
    "# Execute SQL query and Read the data from the database\n",
    "cur.execute('select * from emp')\n",
    "# Fetch records\n",
    "print(cur.fetchall())"
   ]
  },
  {
   "cell_type": "markdown",
   "id": "6fd646ee",
   "metadata": {},
   "source": [
    "### Using the sqlite3 Module in Python\n",
    "\n",
    "### Overview\n",
    "The `sqlite3` module in Python is used to interact with SQLite databases. It provides tools to create, read, write, and manage databases efficiently.\n",
    "\n",
    "### Key Steps\n",
    "\n",
    "1. **Importing the Module**:\n",
    "    - Use `import sqlite3` to include the module in your script.\n",
    "\n",
    "2. **Establishing a Connection**:\n",
    "    - Use the `connect()` method to create a connection to the database.\n",
    "    - Syntax: `conn = sqlite3.connect('database_name.db')`\n",
    "    - If the database does not exist, it will be created with the specified name and location.\n",
    "\n",
    "3. **Creating a Cursor Object**:\n",
    "    - Use the `cursor()` method on the connection object to create a cursor.\n",
    "    - Syntax: `cur = conn.cursor()`\n",
    "    - The cursor is used to execute SQL queries.\n",
    "\n",
    "4. **Executing SQL Queries**:\n",
    "    - Use the `execute()` method on the cursor object to run SQL queries.\n",
    "    - Example:\n",
    "      - Creating a table: `cur.execute(\"CREATE TABLE emp (eid INT, salary INT)\")`\n",
    "      - Inserting data: `cur.execute(\"INSERT INTO emp VALUES (105, 57000)\")`\n",
    "\n",
    "5. **Committing Changes**:\n",
    "    - Use the `commit()` method on the connection object to save changes to the database.\n",
    "    - Syntax: `conn.commit()`\n",
    "\n",
    "6. **Fetching Data**:\n",
    "    - Use the `execute()` method with a `SELECT` query to retrieve data.\n",
    "    - Fetch methods:\n",
    "      - `fetchone()`: Retrieves a single record.\n",
    "      - `fetchall()`: Retrieves all records.\n",
    "    - Example:\n",
    "      ```python\n",
    "      cur.execute(\"SELECT * FROM emp\")\n",
    "      records = cur.fetchall()\n",
    "      ```\n",
    "\n",
    "### Summary\n",
    "The `sqlite3` module simplifies database operations in Python. It allows you to create and manage databases, execute SQL queries, and fetch data efficiently. Key methods include `connect()`, `execute()`, `commit()`, `fetchone()`, and `fetchall()`."
   ]
  }
 ],
 "metadata": {
  "kernelspec": {
   "display_name": "data_analysis-book",
   "language": "python",
   "name": "python3"
  },
  "language_info": {
   "codemirror_mode": {
    "name": "ipython",
    "version": 3
   },
   "file_extension": ".py",
   "mimetype": "text/x-python",
   "name": "python",
   "nbconvert_exporter": "python",
   "pygments_lexer": "ipython3",
   "version": "3.11.11"
  }
 },
 "nbformat": 4,
 "nbformat_minor": 5
}
