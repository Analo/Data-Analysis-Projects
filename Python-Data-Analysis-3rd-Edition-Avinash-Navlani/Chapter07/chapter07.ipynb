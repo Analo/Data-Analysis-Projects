{
 "cells": [
  {
   "cell_type": "markdown",
   "id": "fc7dab7c",
   "metadata": {},
   "source": [
    "# Chapter 7 - Cleaning Messy Data\n",
    "\n",
    "## Importance of Data Cleaning\n",
    "- Data analysts and scientists spend a significant amount of time cleaning and pre-processing messy datasets.\n",
    "- It is a critical skill for any data professional and aspiring data scientist.\n",
    "- Data cleaning ensures high-quality data, which is essential for robust and error-free analysis.\n",
    "- High-quality data (accurate, complete, and consistent) can outperform complex algorithms.\n",
    "\n",
    "## What is Data Cleaning?\n",
    "- The process of identifying, updating, and removing corrupt or incorrect data.\n",
    "- Activities involved:\n",
    "    - Handling missing values\n",
    "    - Removing outliers\n",
    "    - Feature encoding\n",
    "    - Scaling\n",
    "    - Transformation\n",
    "    - Splitting\n",
    "\n",
    "## Objectives of Data Cleaning\n",
    "- Prepare data for analysis by cleaning, manipulating, and wrangling.\n",
    "- Terms like data preparation, manipulation, wrangling, and munging refer to the same process.\n",
    "- The goal is to clean up data to extract valuable insights.\n",
    "\n",
    "## Tools Used\n",
    "- **pandas**: For data manipulation and cleaning.\n",
    "- **scikit-learn**: For advanced data transformation techniques.\n",
    "\n",
    "## Topics Covered in This Chapter\n",
    "1. **Exploring Data**: Understanding the structure and content of the dataset.\n",
    "2. **Filtering Data**: Removing noise and irrelevant information.\n",
    "3. **Handling Missing Values**: Techniques to deal with incomplete data.\n",
    "4. **Handling Outliers**: Identifying and addressing extreme values.\n",
    "5. **Feature Encoding Techniques**: Converting categorical data into numerical formats.\n",
    "6. **Feature Scaling**: Normalizing data for consistent analysis.\n",
    "7. **Feature Transformation**: Applying mathematical transformations to features.\n",
    "8. **Feature Splitting**: Dividing data into training and testing sets.\n",
    "\n",
    "## Key Takeaways\n",
    "- Data cleaning is a foundational step in any data analysis or machine learning workflow.\n",
    "- Mastering data cleaning techniques ensures better insights and model performance.\n",
    "- Focus on understanding and applying tools like pandas and scikit-learn for efficient data preparation."
   ]
  },
  {
   "cell_type": "code",
   "execution_count": 3,
   "id": "871ef522",
   "metadata": {},
   "outputs": [],
   "source": [
    "# import pandas\n",
    "import pandas as pd\n",
    "# Read the data using csv\n",
    "data=pd.read_csv('employee.csv')"
   ]
  },
  {
   "cell_type": "code",
   "execution_count": 4,
   "id": "bce7a8ba",
   "metadata": {},
   "outputs": [
    {
     "data": {
      "application/vnd.microsoft.datawrangler.viewer.v0+json": {
       "columns": [
        {
         "name": "index",
         "rawType": "int64",
         "type": "integer"
        },
        {
         "name": "name",
         "rawType": "object",
         "type": "string"
        },
        {
         "name": "age",
         "rawType": "float64",
         "type": "float"
        },
        {
         "name": "income",
         "rawType": "float64",
         "type": "float"
        },
        {
         "name": "gender",
         "rawType": "object",
         "type": "unknown"
        },
        {
         "name": "department",
         "rawType": "object",
         "type": "string"
        },
        {
         "name": "grade",
         "rawType": "object",
         "type": "string"
        },
        {
         "name": "performance_score",
         "rawType": "int64",
         "type": "integer"
        }
       ],
       "conversionMethod": "pd.DataFrame",
       "ref": "4bab9737-1f89-4ad8-a1d8-92b84cd54d4c",
       "rows": [
        [
         "0",
         "Allen Smith",
         "45.0",
         null,
         null,
         "Operations",
         "G3",
         "723"
        ],
        [
         "1",
         "S Kumar",
         null,
         "16000.0",
         "F",
         "Finance",
         "G0",
         "520"
        ],
        [
         "2",
         "Jack Morgan",
         "32.0",
         "35000.0",
         "M",
         "Finance",
         "G2",
         "674"
        ],
        [
         "3",
         "Ying Chin",
         "45.0",
         "65000.0",
         "F",
         "Sales",
         "G3",
         "556"
        ],
        [
         "4",
         "Dheeraj Patel",
         "30.0",
         "42000.0",
         "F",
         "Operations",
         "G2",
         "711"
        ]
       ],
       "shape": {
        "columns": 7,
        "rows": 5
       }
      },
      "text/html": [
       "<div>\n",
       "<style scoped>\n",
       "    .dataframe tbody tr th:only-of-type {\n",
       "        vertical-align: middle;\n",
       "    }\n",
       "\n",
       "    .dataframe tbody tr th {\n",
       "        vertical-align: top;\n",
       "    }\n",
       "\n",
       "    .dataframe thead th {\n",
       "        text-align: right;\n",
       "    }\n",
       "</style>\n",
       "<table border=\"1\" class=\"dataframe\">\n",
       "  <thead>\n",
       "    <tr style=\"text-align: right;\">\n",
       "      <th></th>\n",
       "      <th>name</th>\n",
       "      <th>age</th>\n",
       "      <th>income</th>\n",
       "      <th>gender</th>\n",
       "      <th>department</th>\n",
       "      <th>grade</th>\n",
       "      <th>performance_score</th>\n",
       "    </tr>\n",
       "  </thead>\n",
       "  <tbody>\n",
       "    <tr>\n",
       "      <th>0</th>\n",
       "      <td>Allen Smith</td>\n",
       "      <td>45.0</td>\n",
       "      <td>NaN</td>\n",
       "      <td>NaN</td>\n",
       "      <td>Operations</td>\n",
       "      <td>G3</td>\n",
       "      <td>723</td>\n",
       "    </tr>\n",
       "    <tr>\n",
       "      <th>1</th>\n",
       "      <td>S Kumar</td>\n",
       "      <td>NaN</td>\n",
       "      <td>16000.0</td>\n",
       "      <td>F</td>\n",
       "      <td>Finance</td>\n",
       "      <td>G0</td>\n",
       "      <td>520</td>\n",
       "    </tr>\n",
       "    <tr>\n",
       "      <th>2</th>\n",
       "      <td>Jack Morgan</td>\n",
       "      <td>32.0</td>\n",
       "      <td>35000.0</td>\n",
       "      <td>M</td>\n",
       "      <td>Finance</td>\n",
       "      <td>G2</td>\n",
       "      <td>674</td>\n",
       "    </tr>\n",
       "    <tr>\n",
       "      <th>3</th>\n",
       "      <td>Ying Chin</td>\n",
       "      <td>45.0</td>\n",
       "      <td>65000.0</td>\n",
       "      <td>F</td>\n",
       "      <td>Sales</td>\n",
       "      <td>G3</td>\n",
       "      <td>556</td>\n",
       "    </tr>\n",
       "    <tr>\n",
       "      <th>4</th>\n",
       "      <td>Dheeraj Patel</td>\n",
       "      <td>30.0</td>\n",
       "      <td>42000.0</td>\n",
       "      <td>F</td>\n",
       "      <td>Operations</td>\n",
       "      <td>G2</td>\n",
       "      <td>711</td>\n",
       "    </tr>\n",
       "  </tbody>\n",
       "</table>\n",
       "</div>"
      ],
      "text/plain": [
       "            name   age   income gender  department grade  performance_score\n",
       "0    Allen Smith  45.0      NaN    NaN  Operations    G3                723\n",
       "1        S Kumar   NaN  16000.0      F     Finance    G0                520\n",
       "2    Jack Morgan  32.0  35000.0      M     Finance    G2                674\n",
       "3      Ying Chin  45.0  65000.0      F       Sales    G3                556\n",
       "4  Dheeraj Patel  30.0  42000.0      F  Operations    G2                711"
      ]
     },
     "execution_count": 4,
     "metadata": {},
     "output_type": "execute_result"
    }
   ],
   "source": [
    "# See initial 5 records\n",
    "data.head()"
   ]
  },
  {
   "cell_type": "code",
   "execution_count": 5,
   "id": "78fe87b4",
   "metadata": {},
   "outputs": [
    {
     "data": {
      "application/vnd.microsoft.datawrangler.viewer.v0+json": {
       "columns": [
        {
         "name": "index",
         "rawType": "int64",
         "type": "integer"
        },
        {
         "name": "name",
         "rawType": "object",
         "type": "string"
        },
        {
         "name": "age",
         "rawType": "float64",
         "type": "float"
        },
        {
         "name": "income",
         "rawType": "float64",
         "type": "float"
        },
        {
         "name": "gender",
         "rawType": "object",
         "type": "unknown"
        },
        {
         "name": "department",
         "rawType": "object",
         "type": "string"
        },
        {
         "name": "grade",
         "rawType": "object",
         "type": "string"
        },
        {
         "name": "performance_score",
         "rawType": "int64",
         "type": "integer"
        }
       ],
       "conversionMethod": "pd.DataFrame",
       "ref": "0925070c-9bac-4647-bb15-891adfd922c0",
       "rows": [
        [
         "4",
         "Dheeraj Patel",
         "30.0",
         "42000.0",
         "F",
         "Operations",
         "G2",
         "711"
        ],
        [
         "5",
         "Satyam Sharma",
         null,
         "62000.0",
         null,
         "Sales",
         "G3",
         "649"
        ],
        [
         "6",
         "James Authur",
         "54.0",
         null,
         "F",
         "Operations",
         "G3",
         "53"
        ],
        [
         "7",
         "Josh Wills",
         "54.0",
         "52000.0",
         "F",
         "Finance",
         "G3",
         "901"
        ],
        [
         "8",
         "Leo Duck",
         "23.0",
         "98000.0",
         "M",
         "Sales",
         "G4",
         "709"
        ]
       ],
       "shape": {
        "columns": 7,
        "rows": 5
       }
      },
      "text/html": [
       "<div>\n",
       "<style scoped>\n",
       "    .dataframe tbody tr th:only-of-type {\n",
       "        vertical-align: middle;\n",
       "    }\n",
       "\n",
       "    .dataframe tbody tr th {\n",
       "        vertical-align: top;\n",
       "    }\n",
       "\n",
       "    .dataframe thead th {\n",
       "        text-align: right;\n",
       "    }\n",
       "</style>\n",
       "<table border=\"1\" class=\"dataframe\">\n",
       "  <thead>\n",
       "    <tr style=\"text-align: right;\">\n",
       "      <th></th>\n",
       "      <th>name</th>\n",
       "      <th>age</th>\n",
       "      <th>income</th>\n",
       "      <th>gender</th>\n",
       "      <th>department</th>\n",
       "      <th>grade</th>\n",
       "      <th>performance_score</th>\n",
       "    </tr>\n",
       "  </thead>\n",
       "  <tbody>\n",
       "    <tr>\n",
       "      <th>4</th>\n",
       "      <td>Dheeraj Patel</td>\n",
       "      <td>30.0</td>\n",
       "      <td>42000.0</td>\n",
       "      <td>F</td>\n",
       "      <td>Operations</td>\n",
       "      <td>G2</td>\n",
       "      <td>711</td>\n",
       "    </tr>\n",
       "    <tr>\n",
       "      <th>5</th>\n",
       "      <td>Satyam Sharma</td>\n",
       "      <td>NaN</td>\n",
       "      <td>62000.0</td>\n",
       "      <td>NaN</td>\n",
       "      <td>Sales</td>\n",
       "      <td>G3</td>\n",
       "      <td>649</td>\n",
       "    </tr>\n",
       "    <tr>\n",
       "      <th>6</th>\n",
       "      <td>James Authur</td>\n",
       "      <td>54.0</td>\n",
       "      <td>NaN</td>\n",
       "      <td>F</td>\n",
       "      <td>Operations</td>\n",
       "      <td>G3</td>\n",
       "      <td>53</td>\n",
       "    </tr>\n",
       "    <tr>\n",
       "      <th>7</th>\n",
       "      <td>Josh Wills</td>\n",
       "      <td>54.0</td>\n",
       "      <td>52000.0</td>\n",
       "      <td>F</td>\n",
       "      <td>Finance</td>\n",
       "      <td>G3</td>\n",
       "      <td>901</td>\n",
       "    </tr>\n",
       "    <tr>\n",
       "      <th>8</th>\n",
       "      <td>Leo Duck</td>\n",
       "      <td>23.0</td>\n",
       "      <td>98000.0</td>\n",
       "      <td>M</td>\n",
       "      <td>Sales</td>\n",
       "      <td>G4</td>\n",
       "      <td>709</td>\n",
       "    </tr>\n",
       "  </tbody>\n",
       "</table>\n",
       "</div>"
      ],
      "text/plain": [
       "            name   age   income gender  department grade  performance_score\n",
       "4  Dheeraj Patel  30.0  42000.0      F  Operations    G2                711\n",
       "5  Satyam Sharma   NaN  62000.0    NaN       Sales    G3                649\n",
       "6   James Authur  54.0      NaN      F  Operations    G3                 53\n",
       "7     Josh Wills  54.0  52000.0      F     Finance    G3                901\n",
       "8       Leo Duck  23.0  98000.0      M       Sales    G4                709"
      ]
     },
     "execution_count": 5,
     "metadata": {},
     "output_type": "execute_result"
    }
   ],
   "source": [
    "# See last 5 records\n",
    "data.tail()"
   ]
  },
  {
   "cell_type": "code",
   "execution_count": 6,
   "id": "17303292",
   "metadata": {},
   "outputs": [
    {
     "name": "stdout",
     "output_type": "stream",
     "text": [
      "Index(['name', 'age', 'income', 'gender', 'department', 'grade',\n",
      "       'performance_score'],\n",
      "      dtype='object')\n"
     ]
    }
   ],
   "source": [
    "# Print list of columns in the data\n",
    "print(data.columns)"
   ]
  },
  {
   "cell_type": "code",
   "execution_count": 7,
   "id": "78ad9e76",
   "metadata": {},
   "outputs": [
    {
     "name": "stdout",
     "output_type": "stream",
     "text": [
      "(9, 7)\n"
     ]
    }
   ],
   "source": [
    "# Print the shape of a DataFrame\n",
    "print(data.shape)"
   ]
  },
  {
   "cell_type": "code",
   "execution_count": 8,
   "id": "5e05d1c4",
   "metadata": {},
   "outputs": [
    {
     "name": "stdout",
     "output_type": "stream",
     "text": [
      "<class 'pandas.core.frame.DataFrame'>\n",
      "RangeIndex: 9 entries, 0 to 8\n",
      "Data columns (total 7 columns):\n",
      " #   Column             Non-Null Count  Dtype  \n",
      "---  ------             --------------  -----  \n",
      " 0   name               9 non-null      object \n",
      " 1   age                7 non-null      float64\n",
      " 2   income             7 non-null      float64\n",
      " 3   gender             7 non-null      object \n",
      " 4   department         9 non-null      object \n",
      " 5   grade              9 non-null      object \n",
      " 6   performance_score  9 non-null      int64  \n",
      "dtypes: float64(2), int64(1), object(4)\n",
      "memory usage: 636.0+ bytes\n"
     ]
    }
   ],
   "source": [
    "# Check the information of DataFrame\n",
    "data.info()"
   ]
  },
  {
   "cell_type": "markdown",
   "id": "b5c5af57",
   "metadata": {},
   "source": [
    "Now, let's take a look at the descriptive statistics of the data by using the describe function. This function will describe numerical objects. In our example, the age, income,and performance scores will describe the count, mean, standard deviation, min-max, and the first, second, and third quartiles:"
   ]
  },
  {
   "cell_type": "code",
   "execution_count": 9,
   "id": "494b4a24",
   "metadata": {},
   "outputs": [
    {
     "data": {
      "application/vnd.microsoft.datawrangler.viewer.v0+json": {
       "columns": [
        {
         "name": "index",
         "rawType": "object",
         "type": "string"
        },
        {
         "name": "age",
         "rawType": "float64",
         "type": "float"
        },
        {
         "name": "income",
         "rawType": "float64",
         "type": "float"
        },
        {
         "name": "performance_score",
         "rawType": "float64",
         "type": "float"
        }
       ],
       "conversionMethod": "pd.DataFrame",
       "ref": "c43efc2b-e56b-4c03-9fb0-50f6bd382c4e",
       "rows": [
        [
         "count",
         "7.0",
         "7.0",
         "9.0"
        ],
        [
         "mean",
         "40.42857142857143",
         "52857.142857142855",
         "610.6666666666666"
        ],
        [
         "std",
         "12.204604907672389",
         "26028.372797318516",
         "235.6719117756717"
        ],
        [
         "min",
         "23.0",
         "16000.0",
         "53.0"
        ],
        [
         "25%",
         "31.0",
         "38500.0",
         "556.0"
        ],
        [
         "50%",
         "45.0",
         "52000.0",
         "674.0"
        ],
        [
         "75%",
         "49.5",
         "63500.0",
         "711.0"
        ],
        [
         "max",
         "54.0",
         "98000.0",
         "901.0"
        ]
       ],
       "shape": {
        "columns": 3,
        "rows": 8
       }
      },
      "text/html": [
       "<div>\n",
       "<style scoped>\n",
       "    .dataframe tbody tr th:only-of-type {\n",
       "        vertical-align: middle;\n",
       "    }\n",
       "\n",
       "    .dataframe tbody tr th {\n",
       "        vertical-align: top;\n",
       "    }\n",
       "\n",
       "    .dataframe thead th {\n",
       "        text-align: right;\n",
       "    }\n",
       "</style>\n",
       "<table border=\"1\" class=\"dataframe\">\n",
       "  <thead>\n",
       "    <tr style=\"text-align: right;\">\n",
       "      <th></th>\n",
       "      <th>age</th>\n",
       "      <th>income</th>\n",
       "      <th>performance_score</th>\n",
       "    </tr>\n",
       "  </thead>\n",
       "  <tbody>\n",
       "    <tr>\n",
       "      <th>count</th>\n",
       "      <td>7.000000</td>\n",
       "      <td>7.000000</td>\n",
       "      <td>9.000000</td>\n",
       "    </tr>\n",
       "    <tr>\n",
       "      <th>mean</th>\n",
       "      <td>40.428571</td>\n",
       "      <td>52857.142857</td>\n",
       "      <td>610.666667</td>\n",
       "    </tr>\n",
       "    <tr>\n",
       "      <th>std</th>\n",
       "      <td>12.204605</td>\n",
       "      <td>26028.372797</td>\n",
       "      <td>235.671912</td>\n",
       "    </tr>\n",
       "    <tr>\n",
       "      <th>min</th>\n",
       "      <td>23.000000</td>\n",
       "      <td>16000.000000</td>\n",
       "      <td>53.000000</td>\n",
       "    </tr>\n",
       "    <tr>\n",
       "      <th>25%</th>\n",
       "      <td>31.000000</td>\n",
       "      <td>38500.000000</td>\n",
       "      <td>556.000000</td>\n",
       "    </tr>\n",
       "    <tr>\n",
       "      <th>50%</th>\n",
       "      <td>45.000000</td>\n",
       "      <td>52000.000000</td>\n",
       "      <td>674.000000</td>\n",
       "    </tr>\n",
       "    <tr>\n",
       "      <th>75%</th>\n",
       "      <td>49.500000</td>\n",
       "      <td>63500.000000</td>\n",
       "      <td>711.000000</td>\n",
       "    </tr>\n",
       "    <tr>\n",
       "      <th>max</th>\n",
       "      <td>54.000000</td>\n",
       "      <td>98000.000000</td>\n",
       "      <td>901.000000</td>\n",
       "    </tr>\n",
       "  </tbody>\n",
       "</table>\n",
       "</div>"
      ],
      "text/plain": [
       "             age        income  performance_score\n",
       "count   7.000000      7.000000           9.000000\n",
       "mean   40.428571  52857.142857         610.666667\n",
       "std    12.204605  26028.372797         235.671912\n",
       "min    23.000000  16000.000000          53.000000\n",
       "25%    31.000000  38500.000000         556.000000\n",
       "50%    45.000000  52000.000000         674.000000\n",
       "75%    49.500000  63500.000000         711.000000\n",
       "max    54.000000  98000.000000         901.000000"
      ]
     },
     "execution_count": 9,
     "metadata": {},
     "output_type": "execute_result"
    }
   ],
   "source": [
    "# Check the descriptive statistics\n",
    "data.describe()"
   ]
  },
  {
   "cell_type": "markdown",
   "id": "ad359110",
   "metadata": {},
   "source": [
    "### Filtering Data to Weed Out the Noise\n",
    "\n",
    "### Importance of Data Filtering\n",
    "- The digitalization of companies and government agencies has led to an increase in data size.\n",
    "- This growth has also introduced inconsistencies, errors, and missing values in datasets.\n",
    "- Data filtering is essential for addressing these issues and optimizing data for:\n",
    "    - Management\n",
    "    - Reporting\n",
    "    - Predictions\n",
    "\n",
    "### Benefits of Data Filtering\n",
    "- Enhances **accuracy**, **relevance**, **completeness**, **consistency**, and **quality** of data.\n",
    "- Processes dirty, messy, or coarse datasets to make them usable.\n",
    "- Plays a critical role in maintaining a competitive edge for businesses.\n",
    "\n",
    "### Role of Data Scientists\n",
    "- Mastering data filtering is a crucial skill for data scientists.\n",
    "- Different datasets require different filtering techniques.\n",
    "- A systematic approach to data filtering is necessary for effective data management.\n",
    "\n",
    "### Types of Data Filtering\n",
    "- Data can be filtered in two ways:\n",
    "    1. **Column-wise Filtering**: Focuses on specific columns.\n",
    "    2. **Row-wise Filtering**: Focuses on specific rows.\n",
    "\n",
    "### Transition from Data Exploration to Filtering\n",
    "- In the previous section, we learned about data exploration.\n",
    "- This section focuses on the systematic process of data filtering."
   ]
  },
  {
   "cell_type": "markdown",
   "id": "e60e049a",
   "metadata": {},
   "source": [
    "### Column-wise filtration\n",
    "In this subsection, we will learnhow to filter column-wise data. We can filter columns using the filter() method. The slicing []. filter() method selects the columns when they're passed as a list of columns."
   ]
  },
  {
   "cell_type": "code",
   "execution_count": 13,
   "id": "acb7842b",
   "metadata": {},
   "outputs": [
    {
     "data": {
      "application/vnd.microsoft.datawrangler.viewer.v0+json": {
       "columns": [
        {
         "name": "index",
         "rawType": "int64",
         "type": "integer"
        },
        {
         "name": "name",
         "rawType": "object",
         "type": "string"
        },
        {
         "name": "department",
         "rawType": "object",
         "type": "string"
        }
       ],
       "conversionMethod": "pd.DataFrame",
       "ref": "20b85a10-7f3f-49e7-a34b-5ece62c527e7",
       "rows": [
        [
         "0",
         "Allen Smith",
         "Operations"
        ],
        [
         "1",
         "S Kumar",
         "Finance"
        ],
        [
         "2",
         "Jack Morgan",
         "Finance"
        ],
        [
         "3",
         "Ying Chin",
         "Sales"
        ],
        [
         "4",
         "Dheeraj Patel",
         "Operations"
        ],
        [
         "5",
         "Satyam Sharma",
         "Sales"
        ],
        [
         "6",
         "James Authur",
         "Operations"
        ],
        [
         "7",
         "Josh Wills",
         "Finance"
        ],
        [
         "8",
         "Leo Duck",
         "Sales"
        ]
       ],
       "shape": {
        "columns": 2,
        "rows": 9
       }
      },
      "text/html": [
       "<div>\n",
       "<style scoped>\n",
       "    .dataframe tbody tr th:only-of-type {\n",
       "        vertical-align: middle;\n",
       "    }\n",
       "\n",
       "    .dataframe tbody tr th {\n",
       "        vertical-align: top;\n",
       "    }\n",
       "\n",
       "    .dataframe thead th {\n",
       "        text-align: right;\n",
       "    }\n",
       "</style>\n",
       "<table border=\"1\" class=\"dataframe\">\n",
       "  <thead>\n",
       "    <tr style=\"text-align: right;\">\n",
       "      <th></th>\n",
       "      <th>name</th>\n",
       "      <th>department</th>\n",
       "    </tr>\n",
       "  </thead>\n",
       "  <tbody>\n",
       "    <tr>\n",
       "      <th>0</th>\n",
       "      <td>Allen Smith</td>\n",
       "      <td>Operations</td>\n",
       "    </tr>\n",
       "    <tr>\n",
       "      <th>1</th>\n",
       "      <td>S Kumar</td>\n",
       "      <td>Finance</td>\n",
       "    </tr>\n",
       "    <tr>\n",
       "      <th>2</th>\n",
       "      <td>Jack Morgan</td>\n",
       "      <td>Finance</td>\n",
       "    </tr>\n",
       "    <tr>\n",
       "      <th>3</th>\n",
       "      <td>Ying Chin</td>\n",
       "      <td>Sales</td>\n",
       "    </tr>\n",
       "    <tr>\n",
       "      <th>4</th>\n",
       "      <td>Dheeraj Patel</td>\n",
       "      <td>Operations</td>\n",
       "    </tr>\n",
       "    <tr>\n",
       "      <th>5</th>\n",
       "      <td>Satyam Sharma</td>\n",
       "      <td>Sales</td>\n",
       "    </tr>\n",
       "    <tr>\n",
       "      <th>6</th>\n",
       "      <td>James Authur</td>\n",
       "      <td>Operations</td>\n",
       "    </tr>\n",
       "    <tr>\n",
       "      <th>7</th>\n",
       "      <td>Josh Wills</td>\n",
       "      <td>Finance</td>\n",
       "    </tr>\n",
       "    <tr>\n",
       "      <th>8</th>\n",
       "      <td>Leo Duck</td>\n",
       "      <td>Sales</td>\n",
       "    </tr>\n",
       "  </tbody>\n",
       "</table>\n",
       "</div>"
      ],
      "text/plain": [
       "            name  department\n",
       "0    Allen Smith  Operations\n",
       "1        S Kumar     Finance\n",
       "2    Jack Morgan     Finance\n",
       "3      Ying Chin       Sales\n",
       "4  Dheeraj Patel  Operations\n",
       "5  Satyam Sharma       Sales\n",
       "6   James Authur  Operations\n",
       "7     Josh Wills     Finance\n",
       "8       Leo Duck       Sales"
      ]
     },
     "execution_count": 13,
     "metadata": {},
     "output_type": "execute_result"
    }
   ],
   "source": [
    "# Filter columns\n",
    "data.filter(['name', 'department'])"
   ]
  },
  {
   "cell_type": "markdown",
   "id": "0c84b4af",
   "metadata": {},
   "source": [
    "Similarly, we can also filter columns using slicing. In slicing, a single column does not need a list, but when we are filtering multiple columns, then they should be on the list. The output of a single column is a pandas Series. If we want the output as a DataFrame, then we need to put the name of the single column into a list. Take a look at the following example:"
   ]
  },
  {
   "cell_type": "code",
   "execution_count": 14,
   "id": "70451b11",
   "metadata": {},
   "outputs": [
    {
     "data": {
      "text/plain": [
       "0      Allen Smith\n",
       "1          S Kumar\n",
       "2      Jack Morgan\n",
       "3        Ying Chin\n",
       "4    Dheeraj Patel\n",
       "5    Satyam Sharma\n",
       "6     James Authur\n",
       "7       Josh Wills\n",
       "8         Leo Duck\n",
       "Name: name, dtype: object"
      ]
     },
     "execution_count": 14,
     "metadata": {},
     "output_type": "execute_result"
    }
   ],
   "source": [
    "# Filter column \"name\"\n",
    "data['name']"
   ]
  },
  {
   "cell_type": "code",
   "execution_count": 15,
   "id": "5441cf9a",
   "metadata": {},
   "outputs": [
    {
     "data": {
      "application/vnd.microsoft.datawrangler.viewer.v0+json": {
       "columns": [
        {
         "name": "index",
         "rawType": "int64",
         "type": "integer"
        },
        {
         "name": "name",
         "rawType": "object",
         "type": "string"
        }
       ],
       "conversionMethod": "pd.DataFrame",
       "ref": "35acf741-e788-4d91-bb2e-d4d3b0661ba3",
       "rows": [
        [
         "0",
         "Allen Smith"
        ],
        [
         "1",
         "S Kumar"
        ],
        [
         "2",
         "Jack Morgan"
        ],
        [
         "3",
         "Ying Chin"
        ],
        [
         "4",
         "Dheeraj Patel"
        ],
        [
         "5",
         "Satyam Sharma"
        ],
        [
         "6",
         "James Authur"
        ],
        [
         "7",
         "Josh Wills"
        ],
        [
         "8",
         "Leo Duck"
        ]
       ],
       "shape": {
        "columns": 1,
        "rows": 9
       }
      },
      "text/html": [
       "<div>\n",
       "<style scoped>\n",
       "    .dataframe tbody tr th:only-of-type {\n",
       "        vertical-align: middle;\n",
       "    }\n",
       "\n",
       "    .dataframe tbody tr th {\n",
       "        vertical-align: top;\n",
       "    }\n",
       "\n",
       "    .dataframe thead th {\n",
       "        text-align: right;\n",
       "    }\n",
       "</style>\n",
       "<table border=\"1\" class=\"dataframe\">\n",
       "  <thead>\n",
       "    <tr style=\"text-align: right;\">\n",
       "      <th></th>\n",
       "      <th>name</th>\n",
       "    </tr>\n",
       "  </thead>\n",
       "  <tbody>\n",
       "    <tr>\n",
       "      <th>0</th>\n",
       "      <td>Allen Smith</td>\n",
       "    </tr>\n",
       "    <tr>\n",
       "      <th>1</th>\n",
       "      <td>S Kumar</td>\n",
       "    </tr>\n",
       "    <tr>\n",
       "      <th>2</th>\n",
       "      <td>Jack Morgan</td>\n",
       "    </tr>\n",
       "    <tr>\n",
       "      <th>3</th>\n",
       "      <td>Ying Chin</td>\n",
       "    </tr>\n",
       "    <tr>\n",
       "      <th>4</th>\n",
       "      <td>Dheeraj Patel</td>\n",
       "    </tr>\n",
       "    <tr>\n",
       "      <th>5</th>\n",
       "      <td>Satyam Sharma</td>\n",
       "    </tr>\n",
       "    <tr>\n",
       "      <th>6</th>\n",
       "      <td>James Authur</td>\n",
       "    </tr>\n",
       "    <tr>\n",
       "      <th>7</th>\n",
       "      <td>Josh Wills</td>\n",
       "    </tr>\n",
       "    <tr>\n",
       "      <th>8</th>\n",
       "      <td>Leo Duck</td>\n",
       "    </tr>\n",
       "  </tbody>\n",
       "</table>\n",
       "</div>"
      ],
      "text/plain": [
       "            name\n",
       "0    Allen Smith\n",
       "1        S Kumar\n",
       "2    Jack Morgan\n",
       "3      Ying Chin\n",
       "4  Dheeraj Patel\n",
       "5  Satyam Sharma\n",
       "6   James Authur\n",
       "7     Josh Wills\n",
       "8       Leo Duck"
      ]
     },
     "execution_count": 15,
     "metadata": {},
     "output_type": "execute_result"
    }
   ],
   "source": [
    "# Filter column \"name\"\n",
    "data[['name']]"
   ]
  },
  {
   "cell_type": "code",
   "execution_count": 16,
   "id": "a7831f33",
   "metadata": {},
   "outputs": [
    {
     "data": {
      "application/vnd.microsoft.datawrangler.viewer.v0+json": {
       "columns": [
        {
         "name": "index",
         "rawType": "int64",
         "type": "integer"
        },
        {
         "name": "name",
         "rawType": "object",
         "type": "string"
        },
        {
         "name": "department",
         "rawType": "object",
         "type": "string"
        }
       ],
       "conversionMethod": "pd.DataFrame",
       "ref": "c793c3f3-2453-4668-8e3b-381b7a822b8d",
       "rows": [
        [
         "0",
         "Allen Smith",
         "Operations"
        ],
        [
         "1",
         "S Kumar",
         "Finance"
        ],
        [
         "2",
         "Jack Morgan",
         "Finance"
        ],
        [
         "3",
         "Ying Chin",
         "Sales"
        ],
        [
         "4",
         "Dheeraj Patel",
         "Operations"
        ],
        [
         "5",
         "Satyam Sharma",
         "Sales"
        ],
        [
         "6",
         "James Authur",
         "Operations"
        ],
        [
         "7",
         "Josh Wills",
         "Finance"
        ],
        [
         "8",
         "Leo Duck",
         "Sales"
        ]
       ],
       "shape": {
        "columns": 2,
        "rows": 9
       }
      },
      "text/html": [
       "<div>\n",
       "<style scoped>\n",
       "    .dataframe tbody tr th:only-of-type {\n",
       "        vertical-align: middle;\n",
       "    }\n",
       "\n",
       "    .dataframe tbody tr th {\n",
       "        vertical-align: top;\n",
       "    }\n",
       "\n",
       "    .dataframe thead th {\n",
       "        text-align: right;\n",
       "    }\n",
       "</style>\n",
       "<table border=\"1\" class=\"dataframe\">\n",
       "  <thead>\n",
       "    <tr style=\"text-align: right;\">\n",
       "      <th></th>\n",
       "      <th>name</th>\n",
       "      <th>department</th>\n",
       "    </tr>\n",
       "  </thead>\n",
       "  <tbody>\n",
       "    <tr>\n",
       "      <th>0</th>\n",
       "      <td>Allen Smith</td>\n",
       "      <td>Operations</td>\n",
       "    </tr>\n",
       "    <tr>\n",
       "      <th>1</th>\n",
       "      <td>S Kumar</td>\n",
       "      <td>Finance</td>\n",
       "    </tr>\n",
       "    <tr>\n",
       "      <th>2</th>\n",
       "      <td>Jack Morgan</td>\n",
       "      <td>Finance</td>\n",
       "    </tr>\n",
       "    <tr>\n",
       "      <th>3</th>\n",
       "      <td>Ying Chin</td>\n",
       "      <td>Sales</td>\n",
       "    </tr>\n",
       "    <tr>\n",
       "      <th>4</th>\n",
       "      <td>Dheeraj Patel</td>\n",
       "      <td>Operations</td>\n",
       "    </tr>\n",
       "    <tr>\n",
       "      <th>5</th>\n",
       "      <td>Satyam Sharma</td>\n",
       "      <td>Sales</td>\n",
       "    </tr>\n",
       "    <tr>\n",
       "      <th>6</th>\n",
       "      <td>James Authur</td>\n",
       "      <td>Operations</td>\n",
       "    </tr>\n",
       "    <tr>\n",
       "      <th>7</th>\n",
       "      <td>Josh Wills</td>\n",
       "      <td>Finance</td>\n",
       "    </tr>\n",
       "    <tr>\n",
       "      <th>8</th>\n",
       "      <td>Leo Duck</td>\n",
       "      <td>Sales</td>\n",
       "    </tr>\n",
       "  </tbody>\n",
       "</table>\n",
       "</div>"
      ],
      "text/plain": [
       "            name  department\n",
       "0    Allen Smith  Operations\n",
       "1        S Kumar     Finance\n",
       "2    Jack Morgan     Finance\n",
       "3      Ying Chin       Sales\n",
       "4  Dheeraj Patel  Operations\n",
       "5  Satyam Sharma       Sales\n",
       "6   James Authur  Operations\n",
       "7     Josh Wills     Finance\n",
       "8       Leo Duck       Sales"
      ]
     },
     "execution_count": 16,
     "metadata": {},
     "output_type": "execute_result"
    }
   ],
   "source": [
    "# Filter two columns: name and department\n",
    "data[['name','department']]"
   ]
  },
  {
   "cell_type": "markdown",
   "id": "b10d5313",
   "metadata": {},
   "source": [
    "### Row-wise filtration\n",
    "Now, let's filter row-wise data. We can filter data using indices, slices, and conditions. In indices, you have to pass the index of the record, while for slicing, we need to pass the slicing range. Take a look at the following example:"
   ]
  },
  {
   "cell_type": "code",
   "execution_count": 17,
   "id": "55a58d59",
   "metadata": {},
   "outputs": [
    {
     "data": {
      "application/vnd.microsoft.datawrangler.viewer.v0+json": {
       "columns": [
        {
         "name": "index",
         "rawType": "int64",
         "type": "integer"
        },
        {
         "name": "name",
         "rawType": "object",
         "type": "string"
        },
        {
         "name": "age",
         "rawType": "float64",
         "type": "float"
        },
        {
         "name": "income",
         "rawType": "float64",
         "type": "float"
        },
        {
         "name": "gender",
         "rawType": "object",
         "type": "unknown"
        },
        {
         "name": "department",
         "rawType": "object",
         "type": "string"
        },
        {
         "name": "grade",
         "rawType": "object",
         "type": "string"
        },
        {
         "name": "performance_score",
         "rawType": "int64",
         "type": "integer"
        }
       ],
       "conversionMethod": "pd.DataFrame",
       "ref": "ad25a5bd-84e0-49f3-906d-c26085f8b02a",
       "rows": [
        [
         "0",
         "Allen Smith",
         "45.0",
         null,
         null,
         "Operations",
         "G3",
         "723"
        ],
        [
         "1",
         "S Kumar",
         null,
         "16000.0",
         "F",
         "Finance",
         "G0",
         "520"
        ],
        [
         "2",
         "Jack Morgan",
         "32.0",
         "35000.0",
         "M",
         "Finance",
         "G2",
         "674"
        ]
       ],
       "shape": {
        "columns": 7,
        "rows": 3
       }
      },
      "text/html": [
       "<div>\n",
       "<style scoped>\n",
       "    .dataframe tbody tr th:only-of-type {\n",
       "        vertical-align: middle;\n",
       "    }\n",
       "\n",
       "    .dataframe tbody tr th {\n",
       "        vertical-align: top;\n",
       "    }\n",
       "\n",
       "    .dataframe thead th {\n",
       "        text-align: right;\n",
       "    }\n",
       "</style>\n",
       "<table border=\"1\" class=\"dataframe\">\n",
       "  <thead>\n",
       "    <tr style=\"text-align: right;\">\n",
       "      <th></th>\n",
       "      <th>name</th>\n",
       "      <th>age</th>\n",
       "      <th>income</th>\n",
       "      <th>gender</th>\n",
       "      <th>department</th>\n",
       "      <th>grade</th>\n",
       "      <th>performance_score</th>\n",
       "    </tr>\n",
       "  </thead>\n",
       "  <tbody>\n",
       "    <tr>\n",
       "      <th>0</th>\n",
       "      <td>Allen Smith</td>\n",
       "      <td>45.0</td>\n",
       "      <td>NaN</td>\n",
       "      <td>NaN</td>\n",
       "      <td>Operations</td>\n",
       "      <td>G3</td>\n",
       "      <td>723</td>\n",
       "    </tr>\n",
       "    <tr>\n",
       "      <th>1</th>\n",
       "      <td>S Kumar</td>\n",
       "      <td>NaN</td>\n",
       "      <td>16000.0</td>\n",
       "      <td>F</td>\n",
       "      <td>Finance</td>\n",
       "      <td>G0</td>\n",
       "      <td>520</td>\n",
       "    </tr>\n",
       "    <tr>\n",
       "      <th>2</th>\n",
       "      <td>Jack Morgan</td>\n",
       "      <td>32.0</td>\n",
       "      <td>35000.0</td>\n",
       "      <td>M</td>\n",
       "      <td>Finance</td>\n",
       "      <td>G2</td>\n",
       "      <td>674</td>\n",
       "    </tr>\n",
       "  </tbody>\n",
       "</table>\n",
       "</div>"
      ],
      "text/plain": [
       "          name   age   income gender  department grade  performance_score\n",
       "0  Allen Smith  45.0      NaN    NaN  Operations    G3                723\n",
       "1      S Kumar   NaN  16000.0      F     Finance    G0                520\n",
       "2  Jack Morgan  32.0  35000.0      M     Finance    G2                674"
      ]
     },
     "execution_count": 17,
     "metadata": {},
     "output_type": "execute_result"
    }
   ],
   "source": [
    "# Select rows for the specific index\n",
    "data.filter([0,1,2],axis=0)"
   ]
  },
  {
   "cell_type": "code",
   "execution_count": 18,
   "id": "f12e8d77",
   "metadata": {},
   "outputs": [
    {
     "data": {
      "application/vnd.microsoft.datawrangler.viewer.v0+json": {
       "columns": [
        {
         "name": "index",
         "rawType": "int64",
         "type": "integer"
        },
        {
         "name": "name",
         "rawType": "object",
         "type": "string"
        },
        {
         "name": "age",
         "rawType": "float64",
         "type": "float"
        },
        {
         "name": "income",
         "rawType": "float64",
         "type": "float"
        },
        {
         "name": "gender",
         "rawType": "object",
         "type": "string"
        },
        {
         "name": "department",
         "rawType": "object",
         "type": "string"
        },
        {
         "name": "grade",
         "rawType": "object",
         "type": "string"
        },
        {
         "name": "performance_score",
         "rawType": "int64",
         "type": "integer"
        }
       ],
       "conversionMethod": "pd.DataFrame",
       "ref": "280836d3-03b9-46ab-b718-d6c86736e93a",
       "rows": [
        [
         "2",
         "Jack Morgan",
         "32.0",
         "35000.0",
         "M",
         "Finance",
         "G2",
         "674"
        ],
        [
         "3",
         "Ying Chin",
         "45.0",
         "65000.0",
         "F",
         "Sales",
         "G3",
         "556"
        ],
        [
         "4",
         "Dheeraj Patel",
         "30.0",
         "42000.0",
         "F",
         "Operations",
         "G2",
         "711"
        ]
       ],
       "shape": {
        "columns": 7,
        "rows": 3
       }
      },
      "text/html": [
       "<div>\n",
       "<style scoped>\n",
       "    .dataframe tbody tr th:only-of-type {\n",
       "        vertical-align: middle;\n",
       "    }\n",
       "\n",
       "    .dataframe tbody tr th {\n",
       "        vertical-align: top;\n",
       "    }\n",
       "\n",
       "    .dataframe thead th {\n",
       "        text-align: right;\n",
       "    }\n",
       "</style>\n",
       "<table border=\"1\" class=\"dataframe\">\n",
       "  <thead>\n",
       "    <tr style=\"text-align: right;\">\n",
       "      <th></th>\n",
       "      <th>name</th>\n",
       "      <th>age</th>\n",
       "      <th>income</th>\n",
       "      <th>gender</th>\n",
       "      <th>department</th>\n",
       "      <th>grade</th>\n",
       "      <th>performance_score</th>\n",
       "    </tr>\n",
       "  </thead>\n",
       "  <tbody>\n",
       "    <tr>\n",
       "      <th>2</th>\n",
       "      <td>Jack Morgan</td>\n",
       "      <td>32.0</td>\n",
       "      <td>35000.0</td>\n",
       "      <td>M</td>\n",
       "      <td>Finance</td>\n",
       "      <td>G2</td>\n",
       "      <td>674</td>\n",
       "    </tr>\n",
       "    <tr>\n",
       "      <th>3</th>\n",
       "      <td>Ying Chin</td>\n",
       "      <td>45.0</td>\n",
       "      <td>65000.0</td>\n",
       "      <td>F</td>\n",
       "      <td>Sales</td>\n",
       "      <td>G3</td>\n",
       "      <td>556</td>\n",
       "    </tr>\n",
       "    <tr>\n",
       "      <th>4</th>\n",
       "      <td>Dheeraj Patel</td>\n",
       "      <td>30.0</td>\n",
       "      <td>42000.0</td>\n",
       "      <td>F</td>\n",
       "      <td>Operations</td>\n",
       "      <td>G2</td>\n",
       "      <td>711</td>\n",
       "    </tr>\n",
       "  </tbody>\n",
       "</table>\n",
       "</div>"
      ],
      "text/plain": [
       "            name   age   income gender  department grade  performance_score\n",
       "2    Jack Morgan  32.0  35000.0      M     Finance    G2                674\n",
       "3      Ying Chin  45.0  65000.0      F       Sales    G3                556\n",
       "4  Dheeraj Patel  30.0  42000.0      F  Operations    G2                711"
      ]
     },
     "execution_count": 18,
     "metadata": {},
     "output_type": "execute_result"
    }
   ],
   "source": [
    "# Filter data using slicing\n",
    "data[2:5]"
   ]
  },
  {
   "cell_type": "markdown",
   "id": "ffcb1af9",
   "metadata": {},
   "source": [
    "In condition-based filtration, we have to pass some conditions in square brackets, [ ], or brackets, ( ). For a single value, we use the == (double equal to) condition, while for multiple values, we use the isin() function and pass the list of values. Let's take a look at the following example:"
   ]
  },
  {
   "cell_type": "code",
   "execution_count": 19,
   "id": "20522b04",
   "metadata": {},
   "outputs": [
    {
     "data": {
      "application/vnd.microsoft.datawrangler.viewer.v0+json": {
       "columns": [
        {
         "name": "index",
         "rawType": "int64",
         "type": "integer"
        },
        {
         "name": "name",
         "rawType": "object",
         "type": "string"
        },
        {
         "name": "age",
         "rawType": "float64",
         "type": "float"
        },
        {
         "name": "income",
         "rawType": "float64",
         "type": "float"
        },
        {
         "name": "gender",
         "rawType": "object",
         "type": "unknown"
        },
        {
         "name": "department",
         "rawType": "object",
         "type": "string"
        },
        {
         "name": "grade",
         "rawType": "object",
         "type": "string"
        },
        {
         "name": "performance_score",
         "rawType": "int64",
         "type": "integer"
        }
       ],
       "conversionMethod": "pd.DataFrame",
       "ref": "ac56b6dd-80c8-4138-a23c-9c5464fe11a0",
       "rows": [
        [
         "3",
         "Ying Chin",
         "45.0",
         "65000.0",
         "F",
         "Sales",
         "G3",
         "556"
        ],
        [
         "5",
         "Satyam Sharma",
         null,
         "62000.0",
         null,
         "Sales",
         "G3",
         "649"
        ],
        [
         "8",
         "Leo Duck",
         "23.0",
         "98000.0",
         "M",
         "Sales",
         "G4",
         "709"
        ]
       ],
       "shape": {
        "columns": 7,
        "rows": 3
       }
      },
      "text/html": [
       "<div>\n",
       "<style scoped>\n",
       "    .dataframe tbody tr th:only-of-type {\n",
       "        vertical-align: middle;\n",
       "    }\n",
       "\n",
       "    .dataframe tbody tr th {\n",
       "        vertical-align: top;\n",
       "    }\n",
       "\n",
       "    .dataframe thead th {\n",
       "        text-align: right;\n",
       "    }\n",
       "</style>\n",
       "<table border=\"1\" class=\"dataframe\">\n",
       "  <thead>\n",
       "    <tr style=\"text-align: right;\">\n",
       "      <th></th>\n",
       "      <th>name</th>\n",
       "      <th>age</th>\n",
       "      <th>income</th>\n",
       "      <th>gender</th>\n",
       "      <th>department</th>\n",
       "      <th>grade</th>\n",
       "      <th>performance_score</th>\n",
       "    </tr>\n",
       "  </thead>\n",
       "  <tbody>\n",
       "    <tr>\n",
       "      <th>3</th>\n",
       "      <td>Ying Chin</td>\n",
       "      <td>45.0</td>\n",
       "      <td>65000.0</td>\n",
       "      <td>F</td>\n",
       "      <td>Sales</td>\n",
       "      <td>G3</td>\n",
       "      <td>556</td>\n",
       "    </tr>\n",
       "    <tr>\n",
       "      <th>5</th>\n",
       "      <td>Satyam Sharma</td>\n",
       "      <td>NaN</td>\n",
       "      <td>62000.0</td>\n",
       "      <td>NaN</td>\n",
       "      <td>Sales</td>\n",
       "      <td>G3</td>\n",
       "      <td>649</td>\n",
       "    </tr>\n",
       "    <tr>\n",
       "      <th>8</th>\n",
       "      <td>Leo Duck</td>\n",
       "      <td>23.0</td>\n",
       "      <td>98000.0</td>\n",
       "      <td>M</td>\n",
       "      <td>Sales</td>\n",
       "      <td>G4</td>\n",
       "      <td>709</td>\n",
       "    </tr>\n",
       "  </tbody>\n",
       "</table>\n",
       "</div>"
      ],
      "text/plain": [
       "            name   age   income gender department grade  performance_score\n",
       "3      Ying Chin  45.0  65000.0      F      Sales    G3                556\n",
       "5  Satyam Sharma   NaN  62000.0    NaN      Sales    G3                649\n",
       "8       Leo Duck  23.0  98000.0      M      Sales    G4                709"
      ]
     },
     "execution_count": 19,
     "metadata": {},
     "output_type": "execute_result"
    }
   ],
   "source": [
    "# Filter data for specific value\n",
    "data[data.department=='Sales']"
   ]
  },
  {
   "cell_type": "markdown",
   "id": "5b528fb4",
   "metadata": {},
   "source": [
    "In the preceding code, we filtered the department sales in the first line of code using == (double equal to) as a condition. Now, let's filter multiple columns using the isin() function:"
   ]
  },
  {
   "cell_type": "code",
   "execution_count": 20,
   "id": "8f95b250",
   "metadata": {},
   "outputs": [
    {
     "data": {
      "application/vnd.microsoft.datawrangler.viewer.v0+json": {
       "columns": [
        {
         "name": "index",
         "rawType": "int64",
         "type": "integer"
        },
        {
         "name": "name",
         "rawType": "object",
         "type": "string"
        },
        {
         "name": "age",
         "rawType": "float64",
         "type": "float"
        },
        {
         "name": "income",
         "rawType": "float64",
         "type": "float"
        },
        {
         "name": "gender",
         "rawType": "object",
         "type": "unknown"
        },
        {
         "name": "department",
         "rawType": "object",
         "type": "string"
        },
        {
         "name": "grade",
         "rawType": "object",
         "type": "string"
        },
        {
         "name": "performance_score",
         "rawType": "int64",
         "type": "integer"
        }
       ],
       "conversionMethod": "pd.DataFrame",
       "ref": "9d83ad3b-28b9-44ef-a1ab-4cfd99b70381",
       "rows": [
        [
         "1",
         "S Kumar",
         null,
         "16000.0",
         "F",
         "Finance",
         "G0",
         "520"
        ],
        [
         "2",
         "Jack Morgan",
         "32.0",
         "35000.0",
         "M",
         "Finance",
         "G2",
         "674"
        ],
        [
         "3",
         "Ying Chin",
         "45.0",
         "65000.0",
         "F",
         "Sales",
         "G3",
         "556"
        ],
        [
         "5",
         "Satyam Sharma",
         null,
         "62000.0",
         null,
         "Sales",
         "G3",
         "649"
        ],
        [
         "7",
         "Josh Wills",
         "54.0",
         "52000.0",
         "F",
         "Finance",
         "G3",
         "901"
        ],
        [
         "8",
         "Leo Duck",
         "23.0",
         "98000.0",
         "M",
         "Sales",
         "G4",
         "709"
        ]
       ],
       "shape": {
        "columns": 7,
        "rows": 6
       }
      },
      "text/html": [
       "<div>\n",
       "<style scoped>\n",
       "    .dataframe tbody tr th:only-of-type {\n",
       "        vertical-align: middle;\n",
       "    }\n",
       "\n",
       "    .dataframe tbody tr th {\n",
       "        vertical-align: top;\n",
       "    }\n",
       "\n",
       "    .dataframe thead th {\n",
       "        text-align: right;\n",
       "    }\n",
       "</style>\n",
       "<table border=\"1\" class=\"dataframe\">\n",
       "  <thead>\n",
       "    <tr style=\"text-align: right;\">\n",
       "      <th></th>\n",
       "      <th>name</th>\n",
       "      <th>age</th>\n",
       "      <th>income</th>\n",
       "      <th>gender</th>\n",
       "      <th>department</th>\n",
       "      <th>grade</th>\n",
       "      <th>performance_score</th>\n",
       "    </tr>\n",
       "  </thead>\n",
       "  <tbody>\n",
       "    <tr>\n",
       "      <th>1</th>\n",
       "      <td>S Kumar</td>\n",
       "      <td>NaN</td>\n",
       "      <td>16000.0</td>\n",
       "      <td>F</td>\n",
       "      <td>Finance</td>\n",
       "      <td>G0</td>\n",
       "      <td>520</td>\n",
       "    </tr>\n",
       "    <tr>\n",
       "      <th>2</th>\n",
       "      <td>Jack Morgan</td>\n",
       "      <td>32.0</td>\n",
       "      <td>35000.0</td>\n",
       "      <td>M</td>\n",
       "      <td>Finance</td>\n",
       "      <td>G2</td>\n",
       "      <td>674</td>\n",
       "    </tr>\n",
       "    <tr>\n",
       "      <th>3</th>\n",
       "      <td>Ying Chin</td>\n",
       "      <td>45.0</td>\n",
       "      <td>65000.0</td>\n",
       "      <td>F</td>\n",
       "      <td>Sales</td>\n",
       "      <td>G3</td>\n",
       "      <td>556</td>\n",
       "    </tr>\n",
       "    <tr>\n",
       "      <th>5</th>\n",
       "      <td>Satyam Sharma</td>\n",
       "      <td>NaN</td>\n",
       "      <td>62000.0</td>\n",
       "      <td>NaN</td>\n",
       "      <td>Sales</td>\n",
       "      <td>G3</td>\n",
       "      <td>649</td>\n",
       "    </tr>\n",
       "    <tr>\n",
       "      <th>7</th>\n",
       "      <td>Josh Wills</td>\n",
       "      <td>54.0</td>\n",
       "      <td>52000.0</td>\n",
       "      <td>F</td>\n",
       "      <td>Finance</td>\n",
       "      <td>G3</td>\n",
       "      <td>901</td>\n",
       "    </tr>\n",
       "    <tr>\n",
       "      <th>8</th>\n",
       "      <td>Leo Duck</td>\n",
       "      <td>23.0</td>\n",
       "      <td>98000.0</td>\n",
       "      <td>M</td>\n",
       "      <td>Sales</td>\n",
       "      <td>G4</td>\n",
       "      <td>709</td>\n",
       "    </tr>\n",
       "  </tbody>\n",
       "</table>\n",
       "</div>"
      ],
      "text/plain": [
       "            name   age   income gender department grade  performance_score\n",
       "1        S Kumar   NaN  16000.0      F    Finance    G0                520\n",
       "2    Jack Morgan  32.0  35000.0      M    Finance    G2                674\n",
       "3      Ying Chin  45.0  65000.0      F      Sales    G3                556\n",
       "5  Satyam Sharma   NaN  62000.0    NaN      Sales    G3                649\n",
       "7     Josh Wills  54.0  52000.0      F    Finance    G3                901\n",
       "8       Leo Duck  23.0  98000.0      M      Sales    G4                709"
      ]
     },
     "execution_count": 20,
     "metadata": {},
     "output_type": "execute_result"
    }
   ],
   "source": [
    "# Select data for multiple values\n",
    "data[data.department.isin(['Sales','Finance'])]"
   ]
  },
  {
   "cell_type": "markdown",
   "id": "4beb8712",
   "metadata": {},
   "source": [
    "In the preceding example, we filtered the department sales and finance department using the isin() function.Now, let's look at the >= and <= conditions for continuous variables. We can have single or multiple conditions. Let's take a look at the following example:"
   ]
  },
  {
   "cell_type": "code",
   "execution_count": 21,
   "id": "6f324a0f",
   "metadata": {},
   "outputs": [
    {
     "data": {
      "application/vnd.microsoft.datawrangler.viewer.v0+json": {
       "columns": [
        {
         "name": "index",
         "rawType": "int64",
         "type": "integer"
        },
        {
         "name": "name",
         "rawType": "object",
         "type": "string"
        },
        {
         "name": "age",
         "rawType": "float64",
         "type": "float"
        },
        {
         "name": "income",
         "rawType": "float64",
         "type": "float"
        },
        {
         "name": "gender",
         "rawType": "object",
         "type": "unknown"
        },
        {
         "name": "department",
         "rawType": "object",
         "type": "string"
        },
        {
         "name": "grade",
         "rawType": "object",
         "type": "string"
        },
        {
         "name": "performance_score",
         "rawType": "int64",
         "type": "integer"
        }
       ],
       "conversionMethod": "pd.DataFrame",
       "ref": "6df6b872-32c9-467b-beef-7d7c19b67ebb",
       "rows": [
        [
         "0",
         "Allen Smith",
         "45.0",
         null,
         null,
         "Operations",
         "G3",
         "723"
        ],
        [
         "4",
         "Dheeraj Patel",
         "30.0",
         "42000.0",
         "F",
         "Operations",
         "G2",
         "711"
        ],
        [
         "7",
         "Josh Wills",
         "54.0",
         "52000.0",
         "F",
         "Finance",
         "G3",
         "901"
        ],
        [
         "8",
         "Leo Duck",
         "23.0",
         "98000.0",
         "M",
         "Sales",
         "G4",
         "709"
        ]
       ],
       "shape": {
        "columns": 7,
        "rows": 4
       }
      },
      "text/html": [
       "<div>\n",
       "<style scoped>\n",
       "    .dataframe tbody tr th:only-of-type {\n",
       "        vertical-align: middle;\n",
       "    }\n",
       "\n",
       "    .dataframe tbody tr th {\n",
       "        vertical-align: top;\n",
       "    }\n",
       "\n",
       "    .dataframe thead th {\n",
       "        text-align: right;\n",
       "    }\n",
       "</style>\n",
       "<table border=\"1\" class=\"dataframe\">\n",
       "  <thead>\n",
       "    <tr style=\"text-align: right;\">\n",
       "      <th></th>\n",
       "      <th>name</th>\n",
       "      <th>age</th>\n",
       "      <th>income</th>\n",
       "      <th>gender</th>\n",
       "      <th>department</th>\n",
       "      <th>grade</th>\n",
       "      <th>performance_score</th>\n",
       "    </tr>\n",
       "  </thead>\n",
       "  <tbody>\n",
       "    <tr>\n",
       "      <th>0</th>\n",
       "      <td>Allen Smith</td>\n",
       "      <td>45.0</td>\n",
       "      <td>NaN</td>\n",
       "      <td>NaN</td>\n",
       "      <td>Operations</td>\n",
       "      <td>G3</td>\n",
       "      <td>723</td>\n",
       "    </tr>\n",
       "    <tr>\n",
       "      <th>4</th>\n",
       "      <td>Dheeraj Patel</td>\n",
       "      <td>30.0</td>\n",
       "      <td>42000.0</td>\n",
       "      <td>F</td>\n",
       "      <td>Operations</td>\n",
       "      <td>G2</td>\n",
       "      <td>711</td>\n",
       "    </tr>\n",
       "    <tr>\n",
       "      <th>7</th>\n",
       "      <td>Josh Wills</td>\n",
       "      <td>54.0</td>\n",
       "      <td>52000.0</td>\n",
       "      <td>F</td>\n",
       "      <td>Finance</td>\n",
       "      <td>G3</td>\n",
       "      <td>901</td>\n",
       "    </tr>\n",
       "    <tr>\n",
       "      <th>8</th>\n",
       "      <td>Leo Duck</td>\n",
       "      <td>23.0</td>\n",
       "      <td>98000.0</td>\n",
       "      <td>M</td>\n",
       "      <td>Sales</td>\n",
       "      <td>G4</td>\n",
       "      <td>709</td>\n",
       "    </tr>\n",
       "  </tbody>\n",
       "</table>\n",
       "</div>"
      ],
      "text/plain": [
       "            name   age   income gender  department grade  performance_score\n",
       "0    Allen Smith  45.0      NaN    NaN  Operations    G3                723\n",
       "4  Dheeraj Patel  30.0  42000.0      F  Operations    G2                711\n",
       "7     Josh Wills  54.0  52000.0      F     Finance    G3                901\n",
       "8       Leo Duck  23.0  98000.0      M       Sales    G4                709"
      ]
     },
     "execution_count": 21,
     "metadata": {},
     "output_type": "execute_result"
    }
   ],
   "source": [
    "# Filter employee who has more than 700 performance score\n",
    "data[(data.performance_score >=700)]"
   ]
  },
  {
   "cell_type": "markdown",
   "id": "664f3f93",
   "metadata": {},
   "source": [
    "### Handling Missing Values\n",
    "\n",
    "#### What are Missing Values?\n",
    "- Missing values are data points that are absent from the dataset.\n",
    "- They can occur due to:\n",
    "    - Human error\n",
    "    - Privacy concerns\n",
    "    - Incomplete responses in surveys\n",
    "\n",
    "#### Why are Missing Values Important?\n",
    "- Missing values are a common issue in data science and are often the first challenge in data preprocessing.\n",
    "- They can significantly affect the performance of machine learning models.\n",
    "\n",
    "#### Methods to Handle Missing Values\n",
    "1. **Drop Missing Value Records**:\n",
    "     - Remove rows or columns with missing values.\n",
    "     - Useful when the amount of missing data is small and does not impact the dataset significantly.\n",
    "\n",
    "2. **Fill Missing Values Manually**:\n",
    "     - Manually input the missing values based on domain knowledge.\n",
    "\n",
    "3. **Impute Missing Values Using Measures of Central Tendency**:\n",
    "     - **Mean**: Used for imputing numeric features.\n",
    "     - **Median**: Used for imputing ordinal features.\n",
    "     - **Mode**: Used for imputing categorical features (most frequently occurring value).\n",
    "\n",
    "4. **Impute Using Machine Learning Models**:\n",
    "     - Predict missing values using models like:\n",
    "         - Regression\n",
    "         - Decision Trees\n",
    "         - K-Nearest Neighbors (KNN)\n",
    "\n",
    "#### When Missing Values May Not Matter\n",
    "- In some cases, missing values do not impact the dataset or model performance.\n",
    "- Examples:\n",
    "    - Unique identifiers like driving license numbers or social security numbers.\n",
    "    - These features are not used as predictors in machine learning models.\n",
    "\n",
    "#### Next Steps\n",
    "- In the following sections, we will explore how to handle missing values in more detail.\n",
    "- We will start by learning how to drop missing values."
   ]
  },
  {
   "cell_type": "markdown",
   "id": "23c5f1e0",
   "metadata": {},
   "source": [
    "### Dropping missing values\n",
    "In Python, missing values can be dropped using the dropna() function. dropna takes one argument: how. how can take two values: all or any. any drops certain rows that containNAN or missing values, while all drops all the rows contains NAN or missing values:"
   ]
  },
  {
   "cell_type": "code",
   "execution_count": 23,
   "id": "96513894",
   "metadata": {},
   "outputs": [
    {
     "data": {
      "application/vnd.microsoft.datawrangler.viewer.v0+json": {
       "columns": [
        {
         "name": "index",
         "rawType": "int64",
         "type": "integer"
        },
        {
         "name": "name",
         "rawType": "object",
         "type": "string"
        },
        {
         "name": "age",
         "rawType": "float64",
         "type": "float"
        },
        {
         "name": "income",
         "rawType": "float64",
         "type": "float"
        },
        {
         "name": "gender",
         "rawType": "object",
         "type": "string"
        },
        {
         "name": "department",
         "rawType": "object",
         "type": "string"
        },
        {
         "name": "grade",
         "rawType": "object",
         "type": "string"
        },
        {
         "name": "performance_score",
         "rawType": "int64",
         "type": "integer"
        }
       ],
       "conversionMethod": "pd.DataFrame",
       "ref": "f6279759-7181-4229-8d77-ac2f0e5600cb",
       "rows": [
        [
         "2",
         "Jack Morgan",
         "32.0",
         "35000.0",
         "M",
         "Finance",
         "G2",
         "674"
        ],
        [
         "3",
         "Ying Chin",
         "45.0",
         "65000.0",
         "F",
         "Sales",
         "G3",
         "556"
        ],
        [
         "4",
         "Dheeraj Patel",
         "30.0",
         "42000.0",
         "F",
         "Operations",
         "G2",
         "711"
        ],
        [
         "7",
         "Josh Wills",
         "54.0",
         "52000.0",
         "F",
         "Finance",
         "G3",
         "901"
        ],
        [
         "8",
         "Leo Duck",
         "23.0",
         "98000.0",
         "M",
         "Sales",
         "G4",
         "709"
        ]
       ],
       "shape": {
        "columns": 7,
        "rows": 5
       }
      },
      "text/html": [
       "<div>\n",
       "<style scoped>\n",
       "    .dataframe tbody tr th:only-of-type {\n",
       "        vertical-align: middle;\n",
       "    }\n",
       "\n",
       "    .dataframe tbody tr th {\n",
       "        vertical-align: top;\n",
       "    }\n",
       "\n",
       "    .dataframe thead th {\n",
       "        text-align: right;\n",
       "    }\n",
       "</style>\n",
       "<table border=\"1\" class=\"dataframe\">\n",
       "  <thead>\n",
       "    <tr style=\"text-align: right;\">\n",
       "      <th></th>\n",
       "      <th>name</th>\n",
       "      <th>age</th>\n",
       "      <th>income</th>\n",
       "      <th>gender</th>\n",
       "      <th>department</th>\n",
       "      <th>grade</th>\n",
       "      <th>performance_score</th>\n",
       "    </tr>\n",
       "  </thead>\n",
       "  <tbody>\n",
       "    <tr>\n",
       "      <th>2</th>\n",
       "      <td>Jack Morgan</td>\n",
       "      <td>32.0</td>\n",
       "      <td>35000.0</td>\n",
       "      <td>M</td>\n",
       "      <td>Finance</td>\n",
       "      <td>G2</td>\n",
       "      <td>674</td>\n",
       "    </tr>\n",
       "    <tr>\n",
       "      <th>3</th>\n",
       "      <td>Ying Chin</td>\n",
       "      <td>45.0</td>\n",
       "      <td>65000.0</td>\n",
       "      <td>F</td>\n",
       "      <td>Sales</td>\n",
       "      <td>G3</td>\n",
       "      <td>556</td>\n",
       "    </tr>\n",
       "    <tr>\n",
       "      <th>4</th>\n",
       "      <td>Dheeraj Patel</td>\n",
       "      <td>30.0</td>\n",
       "      <td>42000.0</td>\n",
       "      <td>F</td>\n",
       "      <td>Operations</td>\n",
       "      <td>G2</td>\n",
       "      <td>711</td>\n",
       "    </tr>\n",
       "    <tr>\n",
       "      <th>7</th>\n",
       "      <td>Josh Wills</td>\n",
       "      <td>54.0</td>\n",
       "      <td>52000.0</td>\n",
       "      <td>F</td>\n",
       "      <td>Finance</td>\n",
       "      <td>G3</td>\n",
       "      <td>901</td>\n",
       "    </tr>\n",
       "    <tr>\n",
       "      <th>8</th>\n",
       "      <td>Leo Duck</td>\n",
       "      <td>23.0</td>\n",
       "      <td>98000.0</td>\n",
       "      <td>M</td>\n",
       "      <td>Sales</td>\n",
       "      <td>G4</td>\n",
       "      <td>709</td>\n",
       "    </tr>\n",
       "  </tbody>\n",
       "</table>\n",
       "</div>"
      ],
      "text/plain": [
       "            name   age   income gender  department grade  performance_score\n",
       "2    Jack Morgan  32.0  35000.0      M     Finance    G2                674\n",
       "3      Ying Chin  45.0  65000.0      F       Sales    G3                556\n",
       "4  Dheeraj Patel  30.0  42000.0      F  Operations    G2                711\n",
       "7     Josh Wills  54.0  52000.0      F     Finance    G3                901\n",
       "8       Leo Duck  23.0  98000.0      M       Sales    G4                709"
      ]
     },
     "execution_count": 23,
     "metadata": {},
     "output_type": "execute_result"
    }
   ],
   "source": [
    "# Drop missing value rows using dropna() function\n",
    "# Read the data\n",
    "data=pd.read_csv('employee.csv')\n",
    "data=data.dropna()\n",
    "data"
   ]
  },
  {
   "cell_type": "markdown",
   "id": "b52b5605",
   "metadata": {},
   "source": [
    "### Filling in Missing Values\n",
    "\n",
    "#### Using the `fillna()` Function\n",
    "- In Python, missing values can be filled using the `fillna()` function.\n",
    "- The `fillna()` function replaces missing values with a specified value.\n",
    "\n",
    "#### Methods to Fill Missing Values\n",
    "1. **Mean**:\n",
    "    - Replace missing values with the mean of the column.\n",
    "    - Suitable for numeric data.\n",
    "\n",
    "2. **Median**:\n",
    "    - Replace missing values with the median of the column.\n",
    "    - Useful for handling skewed data.\n",
    "\n",
    "3. **Mode**:\n",
    "    - Replace missing values with the mode (most frequently occurring value) of the column.\n",
    "    - Commonly used for categorical data.\n",
    "\n",
    "#### Example Usage"
   ]
  },
  {
   "cell_type": "code",
   "execution_count": 24,
   "id": "0359d11d",
   "metadata": {},
   "outputs": [
    {
     "data": {
      "application/vnd.microsoft.datawrangler.viewer.v0+json": {
       "columns": [
        {
         "name": "index",
         "rawType": "int64",
         "type": "integer"
        },
        {
         "name": "name",
         "rawType": "object",
         "type": "string"
        },
        {
         "name": "age",
         "rawType": "float64",
         "type": "float"
        },
        {
         "name": "income",
         "rawType": "float64",
         "type": "float"
        },
        {
         "name": "gender",
         "rawType": "object",
         "type": "unknown"
        },
        {
         "name": "department",
         "rawType": "object",
         "type": "string"
        },
        {
         "name": "grade",
         "rawType": "object",
         "type": "string"
        },
        {
         "name": "performance_score",
         "rawType": "int64",
         "type": "integer"
        }
       ],
       "conversionMethod": "pd.DataFrame",
       "ref": "ef6f1184-e0e5-49ad-8c1a-813a31fe4785",
       "rows": [
        [
         "0",
         "Allen Smith",
         "45.0",
         null,
         null,
         "Operations",
         "G3",
         "723"
        ],
        [
         "1",
         "S Kumar",
         "40.42857142857143",
         "16000.0",
         "F",
         "Finance",
         "G0",
         "520"
        ],
        [
         "2",
         "Jack Morgan",
         "32.0",
         "35000.0",
         "M",
         "Finance",
         "G2",
         "674"
        ],
        [
         "3",
         "Ying Chin",
         "45.0",
         "65000.0",
         "F",
         "Sales",
         "G3",
         "556"
        ],
        [
         "4",
         "Dheeraj Patel",
         "30.0",
         "42000.0",
         "F",
         "Operations",
         "G2",
         "711"
        ],
        [
         "5",
         "Satyam Sharma",
         "40.42857142857143",
         "62000.0",
         null,
         "Sales",
         "G3",
         "649"
        ],
        [
         "6",
         "James Authur",
         "54.0",
         null,
         "F",
         "Operations",
         "G3",
         "53"
        ],
        [
         "7",
         "Josh Wills",
         "54.0",
         "52000.0",
         "F",
         "Finance",
         "G3",
         "901"
        ],
        [
         "8",
         "Leo Duck",
         "23.0",
         "98000.0",
         "M",
         "Sales",
         "G4",
         "709"
        ]
       ],
       "shape": {
        "columns": 7,
        "rows": 9
       }
      },
      "text/html": [
       "<div>\n",
       "<style scoped>\n",
       "    .dataframe tbody tr th:only-of-type {\n",
       "        vertical-align: middle;\n",
       "    }\n",
       "\n",
       "    .dataframe tbody tr th {\n",
       "        vertical-align: top;\n",
       "    }\n",
       "\n",
       "    .dataframe thead th {\n",
       "        text-align: right;\n",
       "    }\n",
       "</style>\n",
       "<table border=\"1\" class=\"dataframe\">\n",
       "  <thead>\n",
       "    <tr style=\"text-align: right;\">\n",
       "      <th></th>\n",
       "      <th>name</th>\n",
       "      <th>age</th>\n",
       "      <th>income</th>\n",
       "      <th>gender</th>\n",
       "      <th>department</th>\n",
       "      <th>grade</th>\n",
       "      <th>performance_score</th>\n",
       "    </tr>\n",
       "  </thead>\n",
       "  <tbody>\n",
       "    <tr>\n",
       "      <th>0</th>\n",
       "      <td>Allen Smith</td>\n",
       "      <td>45.000000</td>\n",
       "      <td>NaN</td>\n",
       "      <td>NaN</td>\n",
       "      <td>Operations</td>\n",
       "      <td>G3</td>\n",
       "      <td>723</td>\n",
       "    </tr>\n",
       "    <tr>\n",
       "      <th>1</th>\n",
       "      <td>S Kumar</td>\n",
       "      <td>40.428571</td>\n",
       "      <td>16000.0</td>\n",
       "      <td>F</td>\n",
       "      <td>Finance</td>\n",
       "      <td>G0</td>\n",
       "      <td>520</td>\n",
       "    </tr>\n",
       "    <tr>\n",
       "      <th>2</th>\n",
       "      <td>Jack Morgan</td>\n",
       "      <td>32.000000</td>\n",
       "      <td>35000.0</td>\n",
       "      <td>M</td>\n",
       "      <td>Finance</td>\n",
       "      <td>G2</td>\n",
       "      <td>674</td>\n",
       "    </tr>\n",
       "    <tr>\n",
       "      <th>3</th>\n",
       "      <td>Ying Chin</td>\n",
       "      <td>45.000000</td>\n",
       "      <td>65000.0</td>\n",
       "      <td>F</td>\n",
       "      <td>Sales</td>\n",
       "      <td>G3</td>\n",
       "      <td>556</td>\n",
       "    </tr>\n",
       "    <tr>\n",
       "      <th>4</th>\n",
       "      <td>Dheeraj Patel</td>\n",
       "      <td>30.000000</td>\n",
       "      <td>42000.0</td>\n",
       "      <td>F</td>\n",
       "      <td>Operations</td>\n",
       "      <td>G2</td>\n",
       "      <td>711</td>\n",
       "    </tr>\n",
       "    <tr>\n",
       "      <th>5</th>\n",
       "      <td>Satyam Sharma</td>\n",
       "      <td>40.428571</td>\n",
       "      <td>62000.0</td>\n",
       "      <td>NaN</td>\n",
       "      <td>Sales</td>\n",
       "      <td>G3</td>\n",
       "      <td>649</td>\n",
       "    </tr>\n",
       "    <tr>\n",
       "      <th>6</th>\n",
       "      <td>James Authur</td>\n",
       "      <td>54.000000</td>\n",
       "      <td>NaN</td>\n",
       "      <td>F</td>\n",
       "      <td>Operations</td>\n",
       "      <td>G3</td>\n",
       "      <td>53</td>\n",
       "    </tr>\n",
       "    <tr>\n",
       "      <th>7</th>\n",
       "      <td>Josh Wills</td>\n",
       "      <td>54.000000</td>\n",
       "      <td>52000.0</td>\n",
       "      <td>F</td>\n",
       "      <td>Finance</td>\n",
       "      <td>G3</td>\n",
       "      <td>901</td>\n",
       "    </tr>\n",
       "    <tr>\n",
       "      <th>8</th>\n",
       "      <td>Leo Duck</td>\n",
       "      <td>23.000000</td>\n",
       "      <td>98000.0</td>\n",
       "      <td>M</td>\n",
       "      <td>Sales</td>\n",
       "      <td>G4</td>\n",
       "      <td>709</td>\n",
       "    </tr>\n",
       "  </tbody>\n",
       "</table>\n",
       "</div>"
      ],
      "text/plain": [
       "            name        age   income gender  department grade  \\\n",
       "0    Allen Smith  45.000000      NaN    NaN  Operations    G3   \n",
       "1        S Kumar  40.428571  16000.0      F     Finance    G0   \n",
       "2    Jack Morgan  32.000000  35000.0      M     Finance    G2   \n",
       "3      Ying Chin  45.000000  65000.0      F       Sales    G3   \n",
       "4  Dheeraj Patel  30.000000  42000.0      F  Operations    G2   \n",
       "5  Satyam Sharma  40.428571  62000.0    NaN       Sales    G3   \n",
       "6   James Authur  54.000000      NaN      F  Operations    G3   \n",
       "7     Josh Wills  54.000000  52000.0      F     Finance    G3   \n",
       "8       Leo Duck  23.000000  98000.0      M       Sales    G4   \n",
       "\n",
       "   performance_score  \n",
       "0                723  \n",
       "1                520  \n",
       "2                674  \n",
       "3                556  \n",
       "4                711  \n",
       "5                649  \n",
       "6                 53  \n",
       "7                901  \n",
       "8                709  "
      ]
     },
     "execution_count": 24,
     "metadata": {},
     "output_type": "execute_result"
    }
   ],
   "source": [
    "# Read the data\n",
    "data=pd.read_csv('employee.csv')\n",
    "# Fill all the missing values in the age column with mean of the age column\n",
    "data['age']=data.age.fillna(data.age.mean())\n",
    "data"
   ]
  },
  {
   "cell_type": "code",
   "execution_count": 26,
   "id": "4afb1759",
   "metadata": {},
   "outputs": [
    {
     "data": {
      "application/vnd.microsoft.datawrangler.viewer.v0+json": {
       "columns": [
        {
         "name": "index",
         "rawType": "int64",
         "type": "integer"
        },
        {
         "name": "name",
         "rawType": "object",
         "type": "string"
        },
        {
         "name": "age",
         "rawType": "float64",
         "type": "float"
        },
        {
         "name": "income",
         "rawType": "float64",
         "type": "float"
        },
        {
         "name": "gender",
         "rawType": "object",
         "type": "unknown"
        },
        {
         "name": "department",
         "rawType": "object",
         "type": "string"
        },
        {
         "name": "grade",
         "rawType": "object",
         "type": "string"
        },
        {
         "name": "performance_score",
         "rawType": "int64",
         "type": "integer"
        }
       ],
       "conversionMethod": "pd.DataFrame",
       "ref": "990d38d1-fdb2-4c07-a606-b4cd79588241",
       "rows": [
        [
         "0",
         "Allen Smith",
         "45.0",
         "52000.0",
         null,
         "Operations",
         "G3",
         "723"
        ],
        [
         "1",
         "S Kumar",
         "40.42857142857143",
         "16000.0",
         "F",
         "Finance",
         "G0",
         "520"
        ],
        [
         "2",
         "Jack Morgan",
         "32.0",
         "35000.0",
         "M",
         "Finance",
         "G2",
         "674"
        ],
        [
         "3",
         "Ying Chin",
         "45.0",
         "65000.0",
         "F",
         "Sales",
         "G3",
         "556"
        ],
        [
         "4",
         "Dheeraj Patel",
         "30.0",
         "42000.0",
         "F",
         "Operations",
         "G2",
         "711"
        ],
        [
         "5",
         "Satyam Sharma",
         "40.42857142857143",
         "62000.0",
         null,
         "Sales",
         "G3",
         "649"
        ],
        [
         "6",
         "James Authur",
         "54.0",
         "52000.0",
         "F",
         "Operations",
         "G3",
         "53"
        ],
        [
         "7",
         "Josh Wills",
         "54.0",
         "52000.0",
         "F",
         "Finance",
         "G3",
         "901"
        ],
        [
         "8",
         "Leo Duck",
         "23.0",
         "98000.0",
         "M",
         "Sales",
         "G4",
         "709"
        ]
       ],
       "shape": {
        "columns": 7,
        "rows": 9
       }
      },
      "text/html": [
       "<div>\n",
       "<style scoped>\n",
       "    .dataframe tbody tr th:only-of-type {\n",
       "        vertical-align: middle;\n",
       "    }\n",
       "\n",
       "    .dataframe tbody tr th {\n",
       "        vertical-align: top;\n",
       "    }\n",
       "\n",
       "    .dataframe thead th {\n",
       "        text-align: right;\n",
       "    }\n",
       "</style>\n",
       "<table border=\"1\" class=\"dataframe\">\n",
       "  <thead>\n",
       "    <tr style=\"text-align: right;\">\n",
       "      <th></th>\n",
       "      <th>name</th>\n",
       "      <th>age</th>\n",
       "      <th>income</th>\n",
       "      <th>gender</th>\n",
       "      <th>department</th>\n",
       "      <th>grade</th>\n",
       "      <th>performance_score</th>\n",
       "    </tr>\n",
       "  </thead>\n",
       "  <tbody>\n",
       "    <tr>\n",
       "      <th>0</th>\n",
       "      <td>Allen Smith</td>\n",
       "      <td>45.000000</td>\n",
       "      <td>52000.0</td>\n",
       "      <td>NaN</td>\n",
       "      <td>Operations</td>\n",
       "      <td>G3</td>\n",
       "      <td>723</td>\n",
       "    </tr>\n",
       "    <tr>\n",
       "      <th>1</th>\n",
       "      <td>S Kumar</td>\n",
       "      <td>40.428571</td>\n",
       "      <td>16000.0</td>\n",
       "      <td>F</td>\n",
       "      <td>Finance</td>\n",
       "      <td>G0</td>\n",
       "      <td>520</td>\n",
       "    </tr>\n",
       "    <tr>\n",
       "      <th>2</th>\n",
       "      <td>Jack Morgan</td>\n",
       "      <td>32.000000</td>\n",
       "      <td>35000.0</td>\n",
       "      <td>M</td>\n",
       "      <td>Finance</td>\n",
       "      <td>G2</td>\n",
       "      <td>674</td>\n",
       "    </tr>\n",
       "    <tr>\n",
       "      <th>3</th>\n",
       "      <td>Ying Chin</td>\n",
       "      <td>45.000000</td>\n",
       "      <td>65000.0</td>\n",
       "      <td>F</td>\n",
       "      <td>Sales</td>\n",
       "      <td>G3</td>\n",
       "      <td>556</td>\n",
       "    </tr>\n",
       "    <tr>\n",
       "      <th>4</th>\n",
       "      <td>Dheeraj Patel</td>\n",
       "      <td>30.000000</td>\n",
       "      <td>42000.0</td>\n",
       "      <td>F</td>\n",
       "      <td>Operations</td>\n",
       "      <td>G2</td>\n",
       "      <td>711</td>\n",
       "    </tr>\n",
       "    <tr>\n",
       "      <th>5</th>\n",
       "      <td>Satyam Sharma</td>\n",
       "      <td>40.428571</td>\n",
       "      <td>62000.0</td>\n",
       "      <td>NaN</td>\n",
       "      <td>Sales</td>\n",
       "      <td>G3</td>\n",
       "      <td>649</td>\n",
       "    </tr>\n",
       "    <tr>\n",
       "      <th>6</th>\n",
       "      <td>James Authur</td>\n",
       "      <td>54.000000</td>\n",
       "      <td>52000.0</td>\n",
       "      <td>F</td>\n",
       "      <td>Operations</td>\n",
       "      <td>G3</td>\n",
       "      <td>53</td>\n",
       "    </tr>\n",
       "    <tr>\n",
       "      <th>7</th>\n",
       "      <td>Josh Wills</td>\n",
       "      <td>54.000000</td>\n",
       "      <td>52000.0</td>\n",
       "      <td>F</td>\n",
       "      <td>Finance</td>\n",
       "      <td>G3</td>\n",
       "      <td>901</td>\n",
       "    </tr>\n",
       "    <tr>\n",
       "      <th>8</th>\n",
       "      <td>Leo Duck</td>\n",
       "      <td>23.000000</td>\n",
       "      <td>98000.0</td>\n",
       "      <td>M</td>\n",
       "      <td>Sales</td>\n",
       "      <td>G4</td>\n",
       "      <td>709</td>\n",
       "    </tr>\n",
       "  </tbody>\n",
       "</table>\n",
       "</div>"
      ],
      "text/plain": [
       "            name        age   income gender  department grade  \\\n",
       "0    Allen Smith  45.000000  52000.0    NaN  Operations    G3   \n",
       "1        S Kumar  40.428571  16000.0      F     Finance    G0   \n",
       "2    Jack Morgan  32.000000  35000.0      M     Finance    G2   \n",
       "3      Ying Chin  45.000000  65000.0      F       Sales    G3   \n",
       "4  Dheeraj Patel  30.000000  42000.0      F  Operations    G2   \n",
       "5  Satyam Sharma  40.428571  62000.0    NaN       Sales    G3   \n",
       "6   James Authur  54.000000  52000.0      F  Operations    G3   \n",
       "7     Josh Wills  54.000000  52000.0      F     Finance    G3   \n",
       "8       Leo Duck  23.000000  98000.0      M       Sales    G4   \n",
       "\n",
       "   performance_score  \n",
       "0                723  \n",
       "1                520  \n",
       "2                674  \n",
       "3                556  \n",
       "4                711  \n",
       "5                649  \n",
       "6                 53  \n",
       "7                901  \n",
       "8                709  "
      ]
     },
     "execution_count": 26,
     "metadata": {},
     "output_type": "execute_result"
    }
   ],
   "source": [
    "# Fill all the missing values in the income column with the median of the income column\n",
    "data['income'] = data.income.fillna(data.income.median())\n",
    "data"
   ]
  },
  {
   "cell_type": "markdown",
   "id": "4e80f30c",
   "metadata": {},
   "source": [
    "### Handling Outliers\n",
    "\n",
    "#### What are Outliers?\n",
    "- Outliers are data points that are significantly distant from most other data points.\n",
    "- They are entities that differ from the majority of the data.\n",
    "- Outliers can cause issues in predictive modeling, such as:\n",
    "    - Long model training times\n",
    "    - Poor accuracy\n",
    "    - Increased error variance\n",
    "    - Decreased normality\n",
    "    - Reduced power of statistical tests\n",
    "\n",
    "#### Types of Outliers\n",
    "1. **Univariate Outliers**:\n",
    "     - Found in single-variable distributions.\n",
    "2. **Multivariate Outliers**:\n",
    "     - Found in n-dimensional spaces.\n",
    "\n",
    "#### Methods to Detect and Handle Outliers\n",
    "1. **Box Plot**:\n",
    "     - Visualizes data points through quartiles.\n",
    "     - Groups data between the first and third quartile into a rectangular box.\n",
    "     - Displays outliers as individual points using the interquartile range (IQR).\n",
    "\n",
    "2. **Scatter Plot**:\n",
    "     - Displays data points (or two variables) on a two-dimensional chart.\n",
    "     - One variable is placed on the x-axis, and the other on the y-axis.\n",
    "\n",
    "3. **Z-Score**:\n",
    "     - A parametric approach to detecting outliers.\n",
    "     - Assumes a normal distribution of data.\n",
    "     - Outliers lie in the tail of the normal curve distribution and are far from the mean.\n",
    "\n",
    "4. **Interquartile Range (IQR)**:\n",
    "     - A robust statistical measure of data dispersion.\n",
    "     - Calculated as the difference between the third and first quartile.\n",
    "     - Visualized in a box plot.\n",
    "     - Also known as the midspread, middle 50%, or H-spread.\n",
    "\n",
    "5. **Percentile**:\n",
    "     - A statistical measure that divides data into 100 groups of equal size.\n",
    "     - Indicates the percentage of the population below a specific value.\n",
    "     - Example: The 95th percentile means 95% of the population falls below this value."
   ]
  },
  {
   "cell_type": "code",
   "execution_count": 28,
   "id": "5a4b4005",
   "metadata": {},
   "outputs": [
    {
     "data": {
      "application/vnd.microsoft.datawrangler.viewer.v0+json": {
       "columns": [
        {
         "name": "index",
         "rawType": "int64",
         "type": "integer"
        },
        {
         "name": "name",
         "rawType": "object",
         "type": "string"
        },
        {
         "name": "age",
         "rawType": "float64",
         "type": "float"
        },
        {
         "name": "income",
         "rawType": "float64",
         "type": "float"
        },
        {
         "name": "gender",
         "rawType": "object",
         "type": "unknown"
        },
        {
         "name": "department",
         "rawType": "object",
         "type": "string"
        },
        {
         "name": "grade",
         "rawType": "object",
         "type": "string"
        },
        {
         "name": "performance_score",
         "rawType": "int64",
         "type": "integer"
        }
       ],
       "conversionMethod": "pd.DataFrame",
       "ref": "a670cc08-e66e-4b23-b4b3-3a9e7e5ca4bb",
       "rows": [
        [
         "0",
         "Allen Smith",
         "45.0",
         "52000.0",
         null,
         "Operations",
         "G3",
         "723"
        ],
        [
         "1",
         "S Kumar",
         "40.42857142857143",
         "16000.0",
         "F",
         "Finance",
         "G0",
         "520"
        ],
        [
         "2",
         "Jack Morgan",
         "32.0",
         "35000.0",
         "M",
         "Finance",
         "G2",
         "674"
        ],
        [
         "3",
         "Ying Chin",
         "45.0",
         "65000.0",
         "F",
         "Sales",
         "G3",
         "556"
        ],
        [
         "4",
         "Dheeraj Patel",
         "30.0",
         "42000.0",
         "F",
         "Operations",
         "G2",
         "711"
        ],
        [
         "5",
         "Satyam Sharma",
         "40.42857142857143",
         "62000.0",
         null,
         "Sales",
         "G3",
         "649"
        ],
        [
         "6",
         "James Authur",
         "54.0",
         "52000.0",
         "F",
         "Operations",
         "G3",
         "53"
        ],
        [
         "7",
         "Josh Wills",
         "54.0",
         "52000.0",
         "F",
         "Finance",
         "G3",
         "901"
        ],
        [
         "8",
         "Leo Duck",
         "23.0",
         "98000.0",
         "M",
         "Sales",
         "G4",
         "709"
        ]
       ],
       "shape": {
        "columns": 7,
        "rows": 9
       }
      },
      "text/html": [
       "<div>\n",
       "<style scoped>\n",
       "    .dataframe tbody tr th:only-of-type {\n",
       "        vertical-align: middle;\n",
       "    }\n",
       "\n",
       "    .dataframe tbody tr th {\n",
       "        vertical-align: top;\n",
       "    }\n",
       "\n",
       "    .dataframe thead th {\n",
       "        text-align: right;\n",
       "    }\n",
       "</style>\n",
       "<table border=\"1\" class=\"dataframe\">\n",
       "  <thead>\n",
       "    <tr style=\"text-align: right;\">\n",
       "      <th></th>\n",
       "      <th>name</th>\n",
       "      <th>age</th>\n",
       "      <th>income</th>\n",
       "      <th>gender</th>\n",
       "      <th>department</th>\n",
       "      <th>grade</th>\n",
       "      <th>performance_score</th>\n",
       "    </tr>\n",
       "  </thead>\n",
       "  <tbody>\n",
       "    <tr>\n",
       "      <th>0</th>\n",
       "      <td>Allen Smith</td>\n",
       "      <td>45.000000</td>\n",
       "      <td>52000.0</td>\n",
       "      <td>NaN</td>\n",
       "      <td>Operations</td>\n",
       "      <td>G3</td>\n",
       "      <td>723</td>\n",
       "    </tr>\n",
       "    <tr>\n",
       "      <th>1</th>\n",
       "      <td>S Kumar</td>\n",
       "      <td>40.428571</td>\n",
       "      <td>16000.0</td>\n",
       "      <td>F</td>\n",
       "      <td>Finance</td>\n",
       "      <td>G0</td>\n",
       "      <td>520</td>\n",
       "    </tr>\n",
       "    <tr>\n",
       "      <th>2</th>\n",
       "      <td>Jack Morgan</td>\n",
       "      <td>32.000000</td>\n",
       "      <td>35000.0</td>\n",
       "      <td>M</td>\n",
       "      <td>Finance</td>\n",
       "      <td>G2</td>\n",
       "      <td>674</td>\n",
       "    </tr>\n",
       "    <tr>\n",
       "      <th>3</th>\n",
       "      <td>Ying Chin</td>\n",
       "      <td>45.000000</td>\n",
       "      <td>65000.0</td>\n",
       "      <td>F</td>\n",
       "      <td>Sales</td>\n",
       "      <td>G3</td>\n",
       "      <td>556</td>\n",
       "    </tr>\n",
       "    <tr>\n",
       "      <th>4</th>\n",
       "      <td>Dheeraj Patel</td>\n",
       "      <td>30.000000</td>\n",
       "      <td>42000.0</td>\n",
       "      <td>F</td>\n",
       "      <td>Operations</td>\n",
       "      <td>G2</td>\n",
       "      <td>711</td>\n",
       "    </tr>\n",
       "    <tr>\n",
       "      <th>5</th>\n",
       "      <td>Satyam Sharma</td>\n",
       "      <td>40.428571</td>\n",
       "      <td>62000.0</td>\n",
       "      <td>NaN</td>\n",
       "      <td>Sales</td>\n",
       "      <td>G3</td>\n",
       "      <td>649</td>\n",
       "    </tr>\n",
       "    <tr>\n",
       "      <th>6</th>\n",
       "      <td>James Authur</td>\n",
       "      <td>54.000000</td>\n",
       "      <td>52000.0</td>\n",
       "      <td>F</td>\n",
       "      <td>Operations</td>\n",
       "      <td>G3</td>\n",
       "      <td>53</td>\n",
       "    </tr>\n",
       "    <tr>\n",
       "      <th>7</th>\n",
       "      <td>Josh Wills</td>\n",
       "      <td>54.000000</td>\n",
       "      <td>52000.0</td>\n",
       "      <td>F</td>\n",
       "      <td>Finance</td>\n",
       "      <td>G3</td>\n",
       "      <td>901</td>\n",
       "    </tr>\n",
       "    <tr>\n",
       "      <th>8</th>\n",
       "      <td>Leo Duck</td>\n",
       "      <td>23.000000</td>\n",
       "      <td>98000.0</td>\n",
       "      <td>M</td>\n",
       "      <td>Sales</td>\n",
       "      <td>G4</td>\n",
       "      <td>709</td>\n",
       "    </tr>\n",
       "  </tbody>\n",
       "</table>\n",
       "</div>"
      ],
      "text/plain": [
       "            name        age   income gender  department grade  \\\n",
       "0    Allen Smith  45.000000  52000.0    NaN  Operations    G3   \n",
       "1        S Kumar  40.428571  16000.0      F     Finance    G0   \n",
       "2    Jack Morgan  32.000000  35000.0      M     Finance    G2   \n",
       "3      Ying Chin  45.000000  65000.0      F       Sales    G3   \n",
       "4  Dheeraj Patel  30.000000  42000.0      F  Operations    G2   \n",
       "5  Satyam Sharma  40.428571  62000.0    NaN       Sales    G3   \n",
       "6   James Authur  54.000000  52000.0      F  Operations    G3   \n",
       "7     Josh Wills  54.000000  52000.0      F     Finance    G3   \n",
       "8       Leo Duck  23.000000  98000.0      M       Sales    G4   \n",
       "\n",
       "   performance_score  \n",
       "0                723  \n",
       "1                520  \n",
       "2                674  \n",
       "3                556  \n",
       "4                711  \n",
       "5                649  \n",
       "6                 53  \n",
       "7                901  \n",
       "8                709  "
      ]
     },
     "execution_count": 28,
     "metadata": {},
     "output_type": "execute_result"
    }
   ],
   "source": [
    "# Dropping the outliers using Standard Deviation\n",
    "# Dropping the outliers using Standard Deviation\n",
    "upper_limit = data['performance_score'].mean() + 3 * data['performance_score'].std()\n",
    "lower_limit = data['performance_score'].mean() - 3 * data['performance_score'].std()\n",
    "\n",
    "# Filter the data to remove outliers\n",
    "data = data[(data['performance_score'] < upper_limit) & (data['performance_score'] > lower_limit)]\n",
    "data"
   ]
  },
  {
   "cell_type": "markdown",
   "id": "c1bb2bd2",
   "metadata": {},
   "source": [
    "### Feature Encoding Techniques\n",
    "\n",
    "#### Importance of Feature Encoding\n",
    "- Machine learning models are mathematical models that require numeric and integer values for computation.\n",
    "- Categorical features cannot be directly used in such models.\n",
    "- Feature encoding is the process of converting categorical features into numerical ones.\n",
    "- The choice of encoding technique can significantly impact the performance of machine learning models.\n",
    "\n",
    "#### Categorical Values\n",
    "- Categorical values are discrete and typically range from 0 to N-1 categories.\n",
    "\n",
    "---\n",
    "\n",
    "### One-Hot Encoding\n",
    "\n",
    "#### What is One-Hot Encoding?\n",
    "- One-hot encoding transforms a categorical column into labels and splits it into multiple binary columns.\n",
    "- Each category is represented as a binary value (1 or 0).\n",
    "\n",
    "#### Example\n",
    "- Consider a categorical variable `color` with three categories: red, green, and blue.\n",
    "- One-hot encoding converts this variable into three binary columns, as shown below:\n",
    "\n",
    "| Color  | Red | Green | Blue |\n",
    "|--------|-----|-------|------|\n",
    "| Red    |  1  |   0   |  0   |\n",
    "| Green  |  0  |   1   |  0   |\n",
    "| Blue   |  0  |   0   |  1   |\n",
    "\n",
    "#### Benefits of One-Hot Encoding\n",
    "- Ensures that categorical data is represented numerically without introducing ordinal relationships.\n",
    "- Widely used for nominal categorical variables.\n",
    "\n",
    "#### Considerations\n",
    "- One-hot encoding can lead to a high-dimensional dataset if the number of categories is large.\n",
    "- This is known as the \"curse of dimensionality\" and may require dimensionality reduction techniques."
   ]
  },
  {
   "cell_type": "code",
   "execution_count": 29,
   "id": "26457a23",
   "metadata": {},
   "outputs": [
    {
     "data": {
      "application/vnd.microsoft.datawrangler.viewer.v0+json": {
       "columns": [
        {
         "name": "index",
         "rawType": "int64",
         "type": "integer"
        },
        {
         "name": "name",
         "rawType": "object",
         "type": "string"
        },
        {
         "name": "age",
         "rawType": "float64",
         "type": "float"
        },
        {
         "name": "income",
         "rawType": "float64",
         "type": "float"
        },
        {
         "name": "gender",
         "rawType": "object",
         "type": "unknown"
        },
        {
         "name": "department",
         "rawType": "object",
         "type": "string"
        },
        {
         "name": "grade",
         "rawType": "object",
         "type": "string"
        },
        {
         "name": "performance_score",
         "rawType": "int64",
         "type": "integer"
        },
        {
         "name": "F",
         "rawType": "bool",
         "type": "boolean"
        },
        {
         "name": "M",
         "rawType": "bool",
         "type": "boolean"
        }
       ],
       "conversionMethod": "pd.DataFrame",
       "ref": "af310299-f5fe-4f06-8b87-0f9afa463a32",
       "rows": [
        [
         "0",
         "Allen Smith",
         "45.0",
         null,
         null,
         "Operations",
         "G3",
         "723",
         "False",
         "False"
        ],
        [
         "1",
         "S Kumar",
         null,
         "16000.0",
         "F",
         "Finance",
         "G0",
         "520",
         "True",
         "False"
        ],
        [
         "2",
         "Jack Morgan",
         "32.0",
         "35000.0",
         "M",
         "Finance",
         "G2",
         "674",
         "False",
         "True"
        ],
        [
         "3",
         "Ying Chin",
         "45.0",
         "65000.0",
         "F",
         "Sales",
         "G3",
         "556",
         "True",
         "False"
        ],
        [
         "4",
         "Dheeraj Patel",
         "30.0",
         "42000.0",
         "F",
         "Operations",
         "G2",
         "711",
         "True",
         "False"
        ]
       ],
       "shape": {
        "columns": 9,
        "rows": 5
       }
      },
      "text/html": [
       "<div>\n",
       "<style scoped>\n",
       "    .dataframe tbody tr th:only-of-type {\n",
       "        vertical-align: middle;\n",
       "    }\n",
       "\n",
       "    .dataframe tbody tr th {\n",
       "        vertical-align: top;\n",
       "    }\n",
       "\n",
       "    .dataframe thead th {\n",
       "        text-align: right;\n",
       "    }\n",
       "</style>\n",
       "<table border=\"1\" class=\"dataframe\">\n",
       "  <thead>\n",
       "    <tr style=\"text-align: right;\">\n",
       "      <th></th>\n",
       "      <th>name</th>\n",
       "      <th>age</th>\n",
       "      <th>income</th>\n",
       "      <th>gender</th>\n",
       "      <th>department</th>\n",
       "      <th>grade</th>\n",
       "      <th>performance_score</th>\n",
       "      <th>F</th>\n",
       "      <th>M</th>\n",
       "    </tr>\n",
       "  </thead>\n",
       "  <tbody>\n",
       "    <tr>\n",
       "      <th>0</th>\n",
       "      <td>Allen Smith</td>\n",
       "      <td>45.0</td>\n",
       "      <td>NaN</td>\n",
       "      <td>NaN</td>\n",
       "      <td>Operations</td>\n",
       "      <td>G3</td>\n",
       "      <td>723</td>\n",
       "      <td>False</td>\n",
       "      <td>False</td>\n",
       "    </tr>\n",
       "    <tr>\n",
       "      <th>1</th>\n",
       "      <td>S Kumar</td>\n",
       "      <td>NaN</td>\n",
       "      <td>16000.0</td>\n",
       "      <td>F</td>\n",
       "      <td>Finance</td>\n",
       "      <td>G0</td>\n",
       "      <td>520</td>\n",
       "      <td>True</td>\n",
       "      <td>False</td>\n",
       "    </tr>\n",
       "    <tr>\n",
       "      <th>2</th>\n",
       "      <td>Jack Morgan</td>\n",
       "      <td>32.0</td>\n",
       "      <td>35000.0</td>\n",
       "      <td>M</td>\n",
       "      <td>Finance</td>\n",
       "      <td>G2</td>\n",
       "      <td>674</td>\n",
       "      <td>False</td>\n",
       "      <td>True</td>\n",
       "    </tr>\n",
       "    <tr>\n",
       "      <th>3</th>\n",
       "      <td>Ying Chin</td>\n",
       "      <td>45.0</td>\n",
       "      <td>65000.0</td>\n",
       "      <td>F</td>\n",
       "      <td>Sales</td>\n",
       "      <td>G3</td>\n",
       "      <td>556</td>\n",
       "      <td>True</td>\n",
       "      <td>False</td>\n",
       "    </tr>\n",
       "    <tr>\n",
       "      <th>4</th>\n",
       "      <td>Dheeraj Patel</td>\n",
       "      <td>30.0</td>\n",
       "      <td>42000.0</td>\n",
       "      <td>F</td>\n",
       "      <td>Operations</td>\n",
       "      <td>G2</td>\n",
       "      <td>711</td>\n",
       "      <td>True</td>\n",
       "      <td>False</td>\n",
       "    </tr>\n",
       "  </tbody>\n",
       "</table>\n",
       "</div>"
      ],
      "text/plain": [
       "            name   age   income gender  department grade  performance_score  \\\n",
       "0    Allen Smith  45.0      NaN    NaN  Operations    G3                723   \n",
       "1        S Kumar   NaN  16000.0      F     Finance    G0                520   \n",
       "2    Jack Morgan  32.0  35000.0      M     Finance    G2                674   \n",
       "3      Ying Chin  45.0  65000.0      F       Sales    G3                556   \n",
       "4  Dheeraj Patel  30.0  42000.0      F  Operations    G2                711   \n",
       "\n",
       "       F      M  \n",
       "0  False  False  \n",
       "1   True  False  \n",
       "2  False   True  \n",
       "3   True  False  \n",
       "4   True  False  "
      ]
     },
     "execution_count": 29,
     "metadata": {},
     "output_type": "execute_result"
    }
   ],
   "source": [
    "# Read the data\n",
    "data=pd.read_csv('employee.csv')\n",
    "# Dummy encoding\n",
    "encoded_data = pd.get_dummies(data['gender'])\n",
    "# Join the encoded _data with original dataframe\n",
    "data = data.join(encoded_data)\n",
    "\n",
    "# Check the top-5 records of the dataframe\n",
    "data.head()"
   ]
  },
  {
   "cell_type": "code",
   "execution_count": 34,
   "id": "4109892c",
   "metadata": {},
   "outputs": [
    {
     "data": {
      "text/plain": [
       "array([[1., 0.],\n",
       "       [1., 0.],\n",
       "       [0., 1.],\n",
       "       [1., 0.],\n",
       "       [1., 0.],\n",
       "       [1., 0.],\n",
       "       [1., 0.],\n",
       "       [1., 0.],\n",
       "       [0., 1.]])"
      ]
     },
     "execution_count": 34,
     "metadata": {},
     "output_type": "execute_result"
    }
   ],
   "source": [
    "# Import one hot encoder\n",
    "from sklearn.preprocessing import OneHotEncoder\n",
    "# Initialize the one-hot encoder object\n",
    "onehotencoder = OneHotEncoder()\n",
    "# Fill all the missing values in the gender column (categorical column) with the mode\n",
    "data['gender'] = data['gender'].fillna(data['gender'].mode()[0])\n",
    "# Fit and transform the gender column\n",
    "onehotencoder.fit_transform(data[['gender']]).toarray()"
   ]
  },
  {
   "cell_type": "markdown",
   "id": "290233d9",
   "metadata": {},
   "source": [
    "### Ordinal Encoder\n",
    "\n",
    "#### What is Ordinal Encoding?\n",
    "- Ordinal encoding is similar to label encoding but includes an **order** in the encoding.\n",
    "- The output encoding starts from `0` and ends at one less than the size of the categories.\n",
    "\n",
    "#### Example\n",
    "- Consider employee grades such as `G0`, `G1`, `G2`, `G3`, and `G4`.\n",
    "- These grades are encoded with ordinal integer values:\n",
    "    - `G0` → `0`\n",
    "    - `G1` → `1`\n",
    "    - `G2` → `2`\n",
    "    - `G3` → `3`\n",
    "    - `G4` → `4`\n",
    "\n",
    "#### Defining the Order\n",
    "- The order of the values can be defined as a list and passed to the `categories` parameter of the encoder.\n",
    "- The ordinal encoder uses these integer or numeric values to encode the data.\n",
    "\n",
    "#### Benefits\n",
    "- The encoded values are **ordinal in nature**, meaning they have a meaningful order.\n",
    "- This encoding helps machine learning algorithms take advantage of the ordinal relationship between categories.\n",
    "\n",
    "#### Example Usage\n",
    "- Below is an example of using the `OrdinalEncoder` to encode employee grades."
   ]
  },
  {
   "cell_type": "code",
   "execution_count": 37,
   "id": "22529e32",
   "metadata": {},
   "outputs": [
    {
     "data": {
      "application/vnd.microsoft.datawrangler.viewer.v0+json": {
       "columns": [
        {
         "name": "index",
         "rawType": "int64",
         "type": "integer"
        },
        {
         "name": "name",
         "rawType": "object",
         "type": "string"
        },
        {
         "name": "age",
         "rawType": "float64",
         "type": "float"
        },
        {
         "name": "income",
         "rawType": "float64",
         "type": "float"
        },
        {
         "name": "gender",
         "rawType": "object",
         "type": "unknown"
        },
        {
         "name": "department",
         "rawType": "object",
         "type": "string"
        },
        {
         "name": "grade",
         "rawType": "object",
         "type": "string"
        },
        {
         "name": "performance_score",
         "rawType": "int64",
         "type": "integer"
        },
        {
         "name": "grade_encoded",
         "rawType": "float64",
         "type": "float"
        }
       ],
       "conversionMethod": "pd.DataFrame",
       "ref": "db84c030-1a91-48d4-a0b6-a8f7abb2a3d1",
       "rows": [
        [
         "0",
         "Allen Smith",
         "45.0",
         null,
         null,
         "Operations",
         "G3",
         "723",
         "3.0"
        ],
        [
         "1",
         "S Kumar",
         null,
         "16000.0",
         "F",
         "Finance",
         "G0",
         "520",
         "0.0"
        ],
        [
         "2",
         "Jack Morgan",
         "32.0",
         "35000.0",
         "M",
         "Finance",
         "G2",
         "674",
         "2.0"
        ],
        [
         "3",
         "Ying Chin",
         "45.0",
         "65000.0",
         "F",
         "Sales",
         "G3",
         "556",
         "3.0"
        ],
        [
         "4",
         "Dheeraj Patel",
         "30.0",
         "42000.0",
         "F",
         "Operations",
         "G2",
         "711",
         "2.0"
        ]
       ],
       "shape": {
        "columns": 8,
        "rows": 5
       }
      },
      "text/html": [
       "<div>\n",
       "<style scoped>\n",
       "    .dataframe tbody tr th:only-of-type {\n",
       "        vertical-align: middle;\n",
       "    }\n",
       "\n",
       "    .dataframe tbody tr th {\n",
       "        vertical-align: top;\n",
       "    }\n",
       "\n",
       "    .dataframe thead th {\n",
       "        text-align: right;\n",
       "    }\n",
       "</style>\n",
       "<table border=\"1\" class=\"dataframe\">\n",
       "  <thead>\n",
       "    <tr style=\"text-align: right;\">\n",
       "      <th></th>\n",
       "      <th>name</th>\n",
       "      <th>age</th>\n",
       "      <th>income</th>\n",
       "      <th>gender</th>\n",
       "      <th>department</th>\n",
       "      <th>grade</th>\n",
       "      <th>performance_score</th>\n",
       "      <th>grade_encoded</th>\n",
       "    </tr>\n",
       "  </thead>\n",
       "  <tbody>\n",
       "    <tr>\n",
       "      <th>0</th>\n",
       "      <td>Allen Smith</td>\n",
       "      <td>45.0</td>\n",
       "      <td>NaN</td>\n",
       "      <td>NaN</td>\n",
       "      <td>Operations</td>\n",
       "      <td>G3</td>\n",
       "      <td>723</td>\n",
       "      <td>3.0</td>\n",
       "    </tr>\n",
       "    <tr>\n",
       "      <th>1</th>\n",
       "      <td>S Kumar</td>\n",
       "      <td>NaN</td>\n",
       "      <td>16000.0</td>\n",
       "      <td>F</td>\n",
       "      <td>Finance</td>\n",
       "      <td>G0</td>\n",
       "      <td>520</td>\n",
       "      <td>0.0</td>\n",
       "    </tr>\n",
       "    <tr>\n",
       "      <th>2</th>\n",
       "      <td>Jack Morgan</td>\n",
       "      <td>32.0</td>\n",
       "      <td>35000.0</td>\n",
       "      <td>M</td>\n",
       "      <td>Finance</td>\n",
       "      <td>G2</td>\n",
       "      <td>674</td>\n",
       "      <td>2.0</td>\n",
       "    </tr>\n",
       "    <tr>\n",
       "      <th>3</th>\n",
       "      <td>Ying Chin</td>\n",
       "      <td>45.0</td>\n",
       "      <td>65000.0</td>\n",
       "      <td>F</td>\n",
       "      <td>Sales</td>\n",
       "      <td>G3</td>\n",
       "      <td>556</td>\n",
       "      <td>3.0</td>\n",
       "    </tr>\n",
       "    <tr>\n",
       "      <th>4</th>\n",
       "      <td>Dheeraj Patel</td>\n",
       "      <td>30.0</td>\n",
       "      <td>42000.0</td>\n",
       "      <td>F</td>\n",
       "      <td>Operations</td>\n",
       "      <td>G2</td>\n",
       "      <td>711</td>\n",
       "      <td>2.0</td>\n",
       "    </tr>\n",
       "  </tbody>\n",
       "</table>\n",
       "</div>"
      ],
      "text/plain": [
       "            name   age   income gender  department grade  performance_score  \\\n",
       "0    Allen Smith  45.0      NaN    NaN  Operations    G3                723   \n",
       "1        S Kumar   NaN  16000.0      F     Finance    G0                520   \n",
       "2    Jack Morgan  32.0  35000.0      M     Finance    G2                674   \n",
       "3      Ying Chin  45.0  65000.0      F       Sales    G3                556   \n",
       "4  Dheeraj Patel  30.0  42000.0      F  Operations    G2                711   \n",
       "\n",
       "   grade_encoded  \n",
       "0            3.0  \n",
       "1            0.0  \n",
       "2            2.0  \n",
       "3            3.0  \n",
       "4            2.0  "
      ]
     },
     "execution_count": 37,
     "metadata": {},
     "output_type": "execute_result"
    }
   ],
   "source": [
    "# Import pandas and OrdinalEncoder\n",
    "import pandas as pd\n",
    "from sklearn.preprocessing import OrdinalEncoder\n",
    "# Load the data\n",
    "data=pd.read_csv('employee.csv')\n",
    "# Initialize OrdinalEncoder with order\n",
    "order_encoder=OrdinalEncoder(categories=[['G0','G1','G2','G3','G4']])\n",
    "# fit and transform the grade\n",
    "data['grade_encoded'] = order_encoder.fit_transform(data[['grade']])\n",
    "# Check top-5 records of the dataframe\n",
    "data.head()"
   ]
  },
  {
   "cell_type": "markdown",
   "id": "032ea5d7",
   "metadata": {},
   "source": [
    "### Feature Scaling\n",
    "\n",
    "#### What is Feature Scaling?\n",
    "- In real-world datasets, features often have different ranges, magnitudes, and units.\n",
    "    - Example: Age may range from 0-200, while salary may range from thousands to millions.\n",
    "- Comparing features with vastly different scales can be challenging.\n",
    "- High-magnitude features tend to have a greater influence on machine learning models than lower-magnitude features.\n",
    "\n",
    "#### Why is Feature Scaling Important?\n",
    "- Feature scaling ensures that all features are brought to the same level of magnitude.\n",
    "- It prevents high-magnitude features from dominating the model's learning process.\n",
    "- It is particularly important for algorithms that rely on distance measures, such as:\n",
    "    - **K-Nearest Neighbors (KNN)**\n",
    "    - **K-Means Clustering**\n",
    "\n",
    "#### When is Feature Scaling Necessary?\n",
    "- Feature scaling is not required for all machine learning algorithms.\n",
    "- It is crucial for algorithms that:\n",
    "    - Use Euclidean distance as a metric.\n",
    "    - Are sensitive to the scale of input features.\n",
    "\n",
    "#### Benefits of Feature Scaling\n",
    "- Improves the performance and convergence speed of machine learning models.\n",
    "- Ensures fair comparison between features with different scales.\n",
    "\n",
    "#### Key Takeaway\n",
    "- Feature scaling or normalization is a critical preprocessing step for certain machine learning algorithms to ensure balanced and effective learning."
   ]
  },
  {
   "cell_type": "markdown",
   "id": "fa76aac9",
   "metadata": {},
   "source": [
    "### Methods for Feature Scaling\n",
    "\n",
    "#### Standard Scaling or Z-Score Normalization\n",
    "- This method computes the scaled values of a feature by using the **mean** and **standard deviation** of that feature.\n",
    "- It is best suited for **normally distributed data**.\n",
    "\n",
    "#### Formula:\n",
    "Let:\n",
    "- \\( \\mu \\) = Mean of the feature column\n",
    "- \\( \\sigma \\) = Standard deviation of the feature column\n",
    "\n",
    "The formula for Z-Score normalization is:\n",
    "\\[\n",
    "Z = \\frac{X - \\mu}{\\sigma}\n",
    "\\]\n",
    "\n",
    "Where:\n",
    "- \\( Z \\) is the scaled value\n",
    "- \\( X \\) is the original value of the feature"
   ]
  },
  {
   "attachments": {
    "image.png": {
     "image/png": "[encoded data removed]"
    }
   },
   "cell_type": "markdown",
   "id": "9d86dd09",
   "metadata": {},
   "source": [
    "![image.png](attachment:image.png)"
   ]
  },
  {
   "cell_type": "code",
   "execution_count": 39,
   "id": "4038aa4b",
   "metadata": {},
   "outputs": [
    {
     "data": {
      "application/vnd.microsoft.datawrangler.viewer.v0+json": {
       "columns": [
        {
         "name": "index",
         "rawType": "int64",
         "type": "integer"
        },
        {
         "name": "name",
         "rawType": "object",
         "type": "string"
        },
        {
         "name": "age",
         "rawType": "float64",
         "type": "float"
        },
        {
         "name": "income",
         "rawType": "float64",
         "type": "float"
        },
        {
         "name": "gender",
         "rawType": "object",
         "type": "unknown"
        },
        {
         "name": "department",
         "rawType": "object",
         "type": "string"
        },
        {
         "name": "grade",
         "rawType": "object",
         "type": "string"
        },
        {
         "name": "performance_score",
         "rawType": "int64",
         "type": "integer"
        },
        {
         "name": "grade_encoded",
         "rawType": "float64",
         "type": "float"
        },
        {
         "name": "performance_std_scaler",
         "rawType": "float64",
         "type": "float"
        }
       ],
       "conversionMethod": "pd.DataFrame",
       "ref": "a37bf5a5-1f2c-4d0f-83bf-917d8e36eb35",
       "rows": [
        [
         "0",
         "Allen Smith",
         "45.0",
         null,
         null,
         "Operations",
         "G3",
         "723",
         "3.0",
         "0.5055650956968765"
        ],
        [
         "1",
         "S Kumar",
         null,
         "16000.0",
         "F",
         "Finance",
         "G0",
         "520",
         "0.0",
         "-0.4080525401470335"
        ],
        [
         "2",
         "Jack Morgan",
         "32.0",
         "35000.0",
         "M",
         "Finance",
         "G2",
         "674",
         "2.0",
         "0.28503670083800164"
        ],
        [
         "3",
         "Ying Chin",
         "45.0",
         "65000.0",
         "F",
         "Sales",
         "G3",
         "556",
         "3.0",
         "-0.24603167861806427"
        ],
        [
         "4",
         "Dheeraj Patel",
         "30.0",
         "42000.0",
         "F",
         "Operations",
         "G2",
         "711",
         "2.0",
         "0.45155814185388676"
        ]
       ],
       "shape": {
        "columns": 9,
        "rows": 5
       }
      },
      "text/html": [
       "<div>\n",
       "<style scoped>\n",
       "    .dataframe tbody tr th:only-of-type {\n",
       "        vertical-align: middle;\n",
       "    }\n",
       "\n",
       "    .dataframe tbody tr th {\n",
       "        vertical-align: top;\n",
       "    }\n",
       "\n",
       "    .dataframe thead th {\n",
       "        text-align: right;\n",
       "    }\n",
       "</style>\n",
       "<table border=\"1\" class=\"dataframe\">\n",
       "  <thead>\n",
       "    <tr style=\"text-align: right;\">\n",
       "      <th></th>\n",
       "      <th>name</th>\n",
       "      <th>age</th>\n",
       "      <th>income</th>\n",
       "      <th>gender</th>\n",
       "      <th>department</th>\n",
       "      <th>grade</th>\n",
       "      <th>performance_score</th>\n",
       "      <th>grade_encoded</th>\n",
       "      <th>performance_std_scaler</th>\n",
       "    </tr>\n",
       "  </thead>\n",
       "  <tbody>\n",
       "    <tr>\n",
       "      <th>0</th>\n",
       "      <td>Allen Smith</td>\n",
       "      <td>45.0</td>\n",
       "      <td>NaN</td>\n",
       "      <td>NaN</td>\n",
       "      <td>Operations</td>\n",
       "      <td>G3</td>\n",
       "      <td>723</td>\n",
       "      <td>3.0</td>\n",
       "      <td>0.505565</td>\n",
       "    </tr>\n",
       "    <tr>\n",
       "      <th>1</th>\n",
       "      <td>S Kumar</td>\n",
       "      <td>NaN</td>\n",
       "      <td>16000.0</td>\n",
       "      <td>F</td>\n",
       "      <td>Finance</td>\n",
       "      <td>G0</td>\n",
       "      <td>520</td>\n",
       "      <td>0.0</td>\n",
       "      <td>-0.408053</td>\n",
       "    </tr>\n",
       "    <tr>\n",
       "      <th>2</th>\n",
       "      <td>Jack Morgan</td>\n",
       "      <td>32.0</td>\n",
       "      <td>35000.0</td>\n",
       "      <td>M</td>\n",
       "      <td>Finance</td>\n",
       "      <td>G2</td>\n",
       "      <td>674</td>\n",
       "      <td>2.0</td>\n",
       "      <td>0.285037</td>\n",
       "    </tr>\n",
       "    <tr>\n",
       "      <th>3</th>\n",
       "      <td>Ying Chin</td>\n",
       "      <td>45.0</td>\n",
       "      <td>65000.0</td>\n",
       "      <td>F</td>\n",
       "      <td>Sales</td>\n",
       "      <td>G3</td>\n",
       "      <td>556</td>\n",
       "      <td>3.0</td>\n",
       "      <td>-0.246032</td>\n",
       "    </tr>\n",
       "    <tr>\n",
       "      <th>4</th>\n",
       "      <td>Dheeraj Patel</td>\n",
       "      <td>30.0</td>\n",
       "      <td>42000.0</td>\n",
       "      <td>F</td>\n",
       "      <td>Operations</td>\n",
       "      <td>G2</td>\n",
       "      <td>711</td>\n",
       "      <td>2.0</td>\n",
       "      <td>0.451558</td>\n",
       "    </tr>\n",
       "  </tbody>\n",
       "</table>\n",
       "</div>"
      ],
      "text/plain": [
       "            name   age   income gender  department grade  performance_score  \\\n",
       "0    Allen Smith  45.0      NaN    NaN  Operations    G3                723   \n",
       "1        S Kumar   NaN  16000.0      F     Finance    G0                520   \n",
       "2    Jack Morgan  32.0  35000.0      M     Finance    G2                674   \n",
       "3      Ying Chin  45.0  65000.0      F       Sales    G3                556   \n",
       "4  Dheeraj Patel  30.0  42000.0      F  Operations    G2                711   \n",
       "\n",
       "   grade_encoded  performance_std_scaler  \n",
       "0            3.0                0.505565  \n",
       "1            0.0               -0.408053  \n",
       "2            2.0                0.285037  \n",
       "3            3.0               -0.246032  \n",
       "4            2.0                0.451558  "
      ]
     },
     "execution_count": 39,
     "metadata": {},
     "output_type": "execute_result"
    }
   ],
   "source": [
    "# Import StandardScaler(or z-score normalization)\n",
    "from sklearn.preprocessing import StandardScaler\n",
    "# Initialize the StandardScaler\n",
    "scaler = StandardScaler()\n",
    "# To scale data\n",
    "scaler.fit(data['performance_score'].values.reshape(-1, 1))\n",
    "data['performance_std_scaler'] = scaler.transform(data['performance_score'].values.reshape(-1, 1))\n",
    "data.head()"
   ]
  },
  {
   "cell_type": "markdown",
   "id": "5bb0583d",
   "metadata": {},
   "source": [
    "### Min-Max Scaling\n",
    "\n",
    "#### What is Min-Max Scaling?\n",
    "- Min-Max Scaling is a feature scaling technique that linearly transforms the original data into a specified range (e.g., [0, 1]).\n",
    "- It preserves the relationships between the scaled data and the original data.\n",
    "\n",
    "#### When to Use Min-Max Scaling?\n",
    "- Min-Max Scaling works well when:\n",
    "    - The data distribution is not normally distributed.\n",
    "    - The standard deviation of the data is very small.\n",
    "    - The dataset contains outliers, as Min-Max Scaling is more sensitive to them.\n",
    "\n",
    "#### Formula for Min-Max Scaling:\n",
    "Let:\n",
    "- \\( X_{\\text{min}} \\): Minimum value of the feature column.\n",
    "- \\( X_{\\text{max}} \\): Maximum value of the feature column.\n",
    "- \\( X_{\\text{new\\_min}} \\): New minimum value (e.g., 0).\n",
    "- \\( X_{\\text{new\\_max}} \\): New maximum value (e.g., 1).\n",
    "\n",
    "The formula for Min-Max Scaling is:\n",
    "\\[\n",
    "X_{\\text{scaled}} = X_{\\text{new\\_min}} + \\frac{(X - X_{\\text{min}})}{(X_{\\text{max}} - X_{\\text{min}})} \\times (X_{\\text{new\\_max}} - X_{\\text{new\\_min}})\n",
    "\\]\n",
    "\n",
    "Where:\n",
    "- \\( X \\): Original value of the feature.\n",
    "- \\( X_{\\text{scaled}} \\): Scaled value of the feature.\n",
    "\n",
    "#### Key Takeaways:\n",
    "- Min-Max Scaling ensures that all features are scaled to the same range, making them comparable.\n",
    "- It is particularly useful for algorithms that are sensitive to the scale of input features, such as K-Nearest Neighbors (KNN) and Neural Networks."
   ]
  },
  {
   "attachments": {
    "image.png": {
     "image/png": "[encoded data removed]"
    }
   },
   "cell_type": "markdown",
   "id": "a4e4c70c",
   "metadata": {},
   "source": [
    "![image.png](attachment:image.png)"
   ]
  },
  {
   "cell_type": "code",
   "execution_count": 41,
   "id": "645aefe2",
   "metadata": {},
   "outputs": [
    {
     "data": {
      "application/vnd.microsoft.datawrangler.viewer.v0+json": {
       "columns": [
        {
         "name": "index",
         "rawType": "int64",
         "type": "integer"
        },
        {
         "name": "name",
         "rawType": "object",
         "type": "string"
        },
        {
         "name": "age",
         "rawType": "float64",
         "type": "float"
        },
        {
         "name": "income",
         "rawType": "float64",
         "type": "float"
        },
        {
         "name": "gender",
         "rawType": "object",
         "type": "unknown"
        },
        {
         "name": "department",
         "rawType": "object",
         "type": "string"
        },
        {
         "name": "grade",
         "rawType": "object",
         "type": "string"
        },
        {
         "name": "performance_score",
         "rawType": "int64",
         "type": "integer"
        },
        {
         "name": "grade_encoded",
         "rawType": "float64",
         "type": "float"
        },
        {
         "name": "performance_std_scaler",
         "rawType": "float64",
         "type": "float"
        },
        {
         "name": "performance_minmax_scaler",
         "rawType": "float64",
         "type": "float"
        }
       ],
       "conversionMethod": "pd.DataFrame",
       "ref": "3e9b87b1-2514-4fcb-afba-863f5cefa354",
       "rows": [
        [
         "0",
         "Allen Smith",
         "45.0",
         null,
         null,
         "Operations",
         "G3",
         "723",
         "3.0",
         "0.5055650956968765",
         "0.7900943396226415"
        ],
        [
         "1",
         "S Kumar",
         null,
         "16000.0",
         "F",
         "Finance",
         "G0",
         "520",
         "0.0",
         "-0.4080525401470335",
         "0.5507075471698113"
        ],
        [
         "2",
         "Jack Morgan",
         "32.0",
         "35000.0",
         "M",
         "Finance",
         "G2",
         "674",
         "2.0",
         "0.28503670083800164",
         "0.7323113207547169"
        ],
        [
         "3",
         "Ying Chin",
         "45.0",
         "65000.0",
         "F",
         "Sales",
         "G3",
         "556",
         "3.0",
         "-0.24603167861806427",
         "0.5931603773584906"
        ],
        [
         "4",
         "Dheeraj Patel",
         "30.0",
         "42000.0",
         "F",
         "Operations",
         "G2",
         "711",
         "2.0",
         "0.45155814185388676",
         "0.7759433962264151"
        ]
       ],
       "shape": {
        "columns": 10,
        "rows": 5
       }
      },
      "text/html": [
       "<div>\n",
       "<style scoped>\n",
       "    .dataframe tbody tr th:only-of-type {\n",
       "        vertical-align: middle;\n",
       "    }\n",
       "\n",
       "    .dataframe tbody tr th {\n",
       "        vertical-align: top;\n",
       "    }\n",
       "\n",
       "    .dataframe thead th {\n",
       "        text-align: right;\n",
       "    }\n",
       "</style>\n",
       "<table border=\"1\" class=\"dataframe\">\n",
       "  <thead>\n",
       "    <tr style=\"text-align: right;\">\n",
       "      <th></th>\n",
       "      <th>name</th>\n",
       "      <th>age</th>\n",
       "      <th>income</th>\n",
       "      <th>gender</th>\n",
       "      <th>department</th>\n",
       "      <th>grade</th>\n",
       "      <th>performance_score</th>\n",
       "      <th>grade_encoded</th>\n",
       "      <th>performance_std_scaler</th>\n",
       "      <th>performance_minmax_scaler</th>\n",
       "    </tr>\n",
       "  </thead>\n",
       "  <tbody>\n",
       "    <tr>\n",
       "      <th>0</th>\n",
       "      <td>Allen Smith</td>\n",
       "      <td>45.0</td>\n",
       "      <td>NaN</td>\n",
       "      <td>NaN</td>\n",
       "      <td>Operations</td>\n",
       "      <td>G3</td>\n",
       "      <td>723</td>\n",
       "      <td>3.0</td>\n",
       "      <td>0.505565</td>\n",
       "      <td>0.790094</td>\n",
       "    </tr>\n",
       "    <tr>\n",
       "      <th>1</th>\n",
       "      <td>S Kumar</td>\n",
       "      <td>NaN</td>\n",
       "      <td>16000.0</td>\n",
       "      <td>F</td>\n",
       "      <td>Finance</td>\n",
       "      <td>G0</td>\n",
       "      <td>520</td>\n",
       "      <td>0.0</td>\n",
       "      <td>-0.408053</td>\n",
       "      <td>0.550708</td>\n",
       "    </tr>\n",
       "    <tr>\n",
       "      <th>2</th>\n",
       "      <td>Jack Morgan</td>\n",
       "      <td>32.0</td>\n",
       "      <td>35000.0</td>\n",
       "      <td>M</td>\n",
       "      <td>Finance</td>\n",
       "      <td>G2</td>\n",
       "      <td>674</td>\n",
       "      <td>2.0</td>\n",
       "      <td>0.285037</td>\n",
       "      <td>0.732311</td>\n",
       "    </tr>\n",
       "    <tr>\n",
       "      <th>3</th>\n",
       "      <td>Ying Chin</td>\n",
       "      <td>45.0</td>\n",
       "      <td>65000.0</td>\n",
       "      <td>F</td>\n",
       "      <td>Sales</td>\n",
       "      <td>G3</td>\n",
       "      <td>556</td>\n",
       "      <td>3.0</td>\n",
       "      <td>-0.246032</td>\n",
       "      <td>0.593160</td>\n",
       "    </tr>\n",
       "    <tr>\n",
       "      <th>4</th>\n",
       "      <td>Dheeraj Patel</td>\n",
       "      <td>30.0</td>\n",
       "      <td>42000.0</td>\n",
       "      <td>F</td>\n",
       "      <td>Operations</td>\n",
       "      <td>G2</td>\n",
       "      <td>711</td>\n",
       "      <td>2.0</td>\n",
       "      <td>0.451558</td>\n",
       "      <td>0.775943</td>\n",
       "    </tr>\n",
       "  </tbody>\n",
       "</table>\n",
       "</div>"
      ],
      "text/plain": [
       "            name   age   income gender  department grade  performance_score  \\\n",
       "0    Allen Smith  45.0      NaN    NaN  Operations    G3                723   \n",
       "1        S Kumar   NaN  16000.0      F     Finance    G0                520   \n",
       "2    Jack Morgan  32.0  35000.0      M     Finance    G2                674   \n",
       "3      Ying Chin  45.0  65000.0      F       Sales    G3                556   \n",
       "4  Dheeraj Patel  30.0  42000.0      F  Operations    G2                711   \n",
       "\n",
       "   grade_encoded  performance_std_scaler  performance_minmax_scaler  \n",
       "0            3.0                0.505565                   0.790094  \n",
       "1            0.0               -0.408053                   0.550708  \n",
       "2            2.0                0.285037                   0.732311  \n",
       "3            3.0               -0.246032                   0.593160  \n",
       "4            2.0                0.451558                   0.775943  "
      ]
     },
     "execution_count": 41,
     "metadata": {},
     "output_type": "execute_result"
    }
   ],
   "source": [
    "# Import MinMaxScaler\n",
    "from sklearn.preprocessing import MinMaxScaler\n",
    "# Initialise the MinMaxScaler\n",
    "scaler = MinMaxScaler()\n",
    "# To scale data\n",
    "scaler.fit(data['performance_score'].values.reshape(-1,1))\n",
    "data['performance_minmax_scaler']=scaler.transform(data['performance_score'].values.reshape(-1,1))\n",
    "data.head()"
   ]
  },
  {
   "cell_type": "markdown",
   "id": "9f18d10c",
   "metadata": {},
   "source": [
    "### Robust Scaling\n",
    "\n",
    "#### What is Robust Scaling?\n",
    "- Robust Scaling is a feature scaling technique similar to Min-Max Scaling.\n",
    "- Instead of using the minimum and maximum values, it uses the **interquartile range (IQR)**.\n",
    "- This makes it **robust to outliers**, as it focuses on the central range of the data.\n",
    "\n",
    "#### Formula:\n",
    "Let:\n",
    "- \\( Q_1 \\): First quartile (25th percentile) of the feature column.\n",
    "- \\( Q_3 \\): Third quartile (75th percentile) of the feature column.\n",
    "- \\( \\text{IQR} = Q_3 - Q_1 \\): Interquartile range.\n",
    "\n",
    "The formula for Robust Scaling is:\n",
    "\\[\n",
    "X_{\\text{scaled}} = \\frac{X - Q_2}{Q_3 - Q_1}\n",
    "\\]\n",
    "\n",
    "Where:\n",
    "- \\( X \\): Original value of the feature.\n",
    "- \\( Q_2 \\): Median of the feature column.\n",
    "- \\( X_{\\text{scaled}} \\): Scaled value of the feature.\n",
    "\n",
    "#### Benefits of Robust Scaling:\n",
    "- Handles outliers effectively by focusing on the interquartile range.\n",
    "- Ensures that the scaled data is less influenced by extreme values.\n",
    "\n",
    "#### When to Use Robust Scaling?\n",
    "- When the dataset contains significant outliers.\n",
    "- When the data distribution is skewed or non-normal.\n",
    "\n",
    "#### Key Takeaway:\n",
    "- Robust Scaling is a powerful technique for scaling features in datasets with outliers, ensuring that the scaled data remains unaffected by extreme values."
   ]
  },
  {
   "attachments": {
    "image.png": {
     "image/png": "[encoded data removed]"
    }
   },
   "cell_type": "markdown",
   "id": "2b8bb88f",
   "metadata": {},
   "source": [
    "![image.png](attachment:image.png)"
   ]
  }
 ],
 "metadata": {
  "kernelspec": {
   "display_name": "data_analysis-book",
   "language": "python",
   "name": "python3"
  },
  "language_info": {
   "codemirror_mode": {
    "name": "ipython",
    "version": 3
   },
   "file_extension": ".py",
   "mimetype": "text/x-python",
   "name": "python",
   "nbconvert_exporter": "python",
   "pygments_lexer": "ipython3",
   "version": "3.11.11"
  }
 },
 "nbformat": 4,
 "nbformat_minor": 5
}
