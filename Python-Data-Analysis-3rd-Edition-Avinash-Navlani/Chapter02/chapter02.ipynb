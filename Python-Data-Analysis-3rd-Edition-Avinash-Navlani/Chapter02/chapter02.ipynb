{
 "cells": [
  {
   "cell_type": "code",
   "execution_count": 13,
   "id": "43c30107-8d9f-42d5-a343-4cf917f4901c",
   "metadata": {},
   "outputs": [
    {
     "name": "stdout",
     "output_type": "stream",
     "text": [
      "[ 2  4  6  8 10]\n"
     ]
    }
   ],
   "source": [
    "# Creating an array\n",
    "import numpy as np\n",
    "a = np.array ([2,4,6,8,10])\n",
    "print (a)"
   ]
  },
  {
   "cell_type": "code",
   "execution_count": 14,
   "id": "a86d2dbf-ce2d-40dc-ae80-18f50cc97d3f",
   "metadata": {},
   "outputs": [
    {
     "name": "stdout",
     "output_type": "stream",
     "text": [
      "[ 1  2  3  4  5  6  7  8  9 10]\n"
     ]
    }
   ],
   "source": [
    "# Creating an array using arange()\n",
    "import numpy as np\n",
    "a = np.arange (1,11)\n",
    "print (a)"
   ]
  },
  {
   "cell_type": "code",
   "execution_count": 15,
   "id": "f2ff80b4",
   "metadata": {},
   "outputs": [
    {
     "name": "stdout",
     "output_type": "stream",
     "text": [
      "[[0. 0. 0.]\n",
      " [0. 0. 0.]\n",
      " [0. 0. 0.]]\n"
     ]
    }
   ],
   "source": [
    "# Create an array of all zeros\n",
    "import numpy as np\n",
    "p = np.zeros ((3,3))\n",
    "print (p)"
   ]
  },
  {
   "cell_type": "code",
   "execution_count": 16,
   "id": "7c0c3a59-18ae-42d4-938f-cea95cd80ae1",
   "metadata": {},
   "outputs": [
    {
     "name": "stdout",
     "output_type": "stream",
     "text": [
      "[[0.69040708 0.29555873 0.32366966]\n",
      " [0.30296494 0.13426176 0.7876061 ]\n",
      " [0.37427017 0.35867239 0.86002981]]\n"
     ]
    }
   ],
   "source": [
    "# Create an array filled with random values\n",
    "\n",
    "t = np.random.random ((3,3))\n",
    "print (t)"
   ]
  },
  {
   "cell_type": "markdown",
   "id": "803b08ca",
   "metadata": {},
   "source": [
    "**dtype Objects**"
   ]
  },
  {
   "cell_type": "code",
   "execution_count": 17,
   "id": "52138302",
   "metadata": {},
   "outputs": [
    {
     "name": "stdout",
     "output_type": "stream",
     "text": [
      "int64\n",
      "8\n"
     ]
    }
   ],
   "source": [
    "# Creating an array\n",
    "import numpy as np\n",
    "a = np.array ([2,4,6,8,10])\n",
    "print (a.dtype)\n",
    "\n",
    "print (a.dtype.itemsize)"
   ]
  },
  {
   "cell_type": "code",
   "execution_count": 18,
   "id": "16269ef2",
   "metadata": {},
   "outputs": [
    {
     "name": "stdout",
     "output_type": "stream",
     "text": [
      "[ 1.  2.  3.  4.  5.  6.  7.  8.  9. 10.]\n"
     ]
    }
   ],
   "source": [
    "# Create numpy array using arange() function\n",
    "var1=np.arange(1,11, dtype='f')\n",
    "print (var1)"
   ]
  },
  {
   "cell_type": "markdown",
   "id": "8f787717",
   "metadata": {},
   "source": [
    "**Manipulating array shapes**"
   ]
  },
  {
   "cell_type": "code",
   "execution_count": 19,
   "id": "f1ee9381",
   "metadata": {},
   "outputs": [
    {
     "name": "stdout",
     "output_type": "stream",
     "text": [
      "[ 0  1  2  3  4  5  6  7  8  9 10 11]\n"
     ]
    }
   ],
   "source": [
    "#Create an array\n",
    "arr = np.arange(12)\n",
    "print (arr)"
   ]
  },
  {
   "cell_type": "code",
   "execution_count": 20,
   "id": "ac779681",
   "metadata": {},
   "outputs": [
    {
     "name": "stdout",
     "output_type": "stream",
     "text": [
      "[[ 0  1  2  3]\n",
      " [ 4  5  6  7]\n",
      " [ 8  9 10 11]]\n",
      "[ 0  1  2  3  4  5  6  7  8  9 10 11]\n"
     ]
    }
   ],
   "source": [
    "#Reshape the array dimension\n",
    "new_arr=arr.reshape(3,4)\n",
    "\n",
    "print(new_arr)\n",
    "\n",
    "print (arr.ravel())"
   ]
  },
  {
   "cell_type": "markdown",
   "id": "2081940d-edf0-42e4-8e8a-d222499073cb",
   "metadata": {},
   "source": [
    "**Partitioning NumPy Arrays**\n",
    "\n",
    "**Horizontal splitting:** In horizontal split, the given array is divided into N equal sub-arrays along the horizontal axis using the hsplit() function. Let's see how to split an array:"
   ]
  },
  {
   "cell_type": "code",
   "execution_count": 21,
   "id": "b4274e15-4748-4a46-bd46-eafd100bc09e",
   "metadata": {},
   "outputs": [
    {
     "name": "stdout",
     "output_type": "stream",
     "text": [
      "[[1 2 3]\n",
      " [4 5 6]\n",
      " [7 8 9]]\n"
     ]
    }
   ],
   "source": [
    "import numpy as np\n",
    "# Create an array\n",
    "arr=np.arange (1,10). reshape(3,3)\n",
    "print(arr)"
   ]
  },
  {
   "cell_type": "code",
   "execution_count": 22,
   "id": "4f0cd9af-4a5c-49d9-a671-d4a78d1f994d",
   "metadata": {},
   "outputs": [
    {
     "name": "stdout",
     "output_type": "stream",
     "text": [
      "[array([[1],\n",
      "       [4],\n",
      "       [7]]), array([[2],\n",
      "       [5],\n",
      "       [8]]), array([[3],\n",
      "       [6],\n",
      "       [9]])]\n"
     ]
    }
   ],
   "source": [
    "# Peroform horizontal splitting\n",
    "arr_hor_split=np.hsplit(arr, 3)\n",
    "print(arr_hor_split)"
   ]
  },
  {
   "cell_type": "markdown",
   "id": "1f933ea4-4bca-44f9-b646-39a70b067c87",
   "metadata": {},
   "source": [
    "**Vertical splitting:** In vertical split, the given array is divided into N equal subarrays along the vertical axis using the vsplit() and split() functions. The split function with axis=0 performs the same operation as the vsplit() function:"
   ]
  },
  {
   "cell_type": "code",
   "execution_count": 23,
   "id": "bee9d179-ae9a-4069-8ea5-1285caa5faa2",
   "metadata": {},
   "outputs": [
    {
     "name": "stdout",
     "output_type": "stream",
     "text": [
      "[array([[1, 2, 3]]), array([[4, 5, 6]]), array([[7, 8, 9]])]\n"
     ]
    }
   ],
   "source": [
    "# vertical split\n",
    "arr_ver_split=np.vsplit(arr, 3)\n",
    "print(arr_ver_split)"
   ]
  },
  {
   "cell_type": "code",
   "execution_count": 24,
   "id": "dfc20f91-5c77-4102-9cfa-c2b128feeefe",
   "metadata": {},
   "outputs": [
    {
     "name": "stdout",
     "output_type": "stream",
     "text": [
      "[array([[1, 2, 3]]), array([[4, 5, 6]]), array([[7, 8, 9]])]\n"
     ]
    }
   ],
   "source": [
    "# split with axis=0\n",
    "arr_split=np.split(arr,3,axis=0)\n",
    "print(arr_split)"
   ]
  },
  {
   "cell_type": "code",
   "execution_count": 25,
   "id": "4bfa4b3e-3917-4d44-8d43-72225781405e",
   "metadata": {},
   "outputs": [
    {
     "name": "stdout",
     "output_type": "stream",
     "text": [
      "[array([[1],\n",
      "       [4],\n",
      "       [7]]), array([[2],\n",
      "       [5],\n",
      "       [8]]), array([[3],\n",
      "       [6],\n",
      "       [9]])]\n"
     ]
    }
   ],
   "source": [
    "# split with axis=1\n",
    "arr_split = np.split(arr,3,axis=1)\n",
    "print(arr_split)"
   ]
  },
  {
   "cell_type": "markdown",
   "id": "337b93c4-6eac-45c6-bd98-601f1bccb83d",
   "metadata": {},
   "source": [
    "**Boolean and fancy indexing**\n",
    "Indexing techniques help us to select and filter elements from a NumPy array. In this section, we will focus on Boolean and fancy indexing. Boolean indexing uses a Boolean\n",
    "expression in the place of indexes (in square brackets) to filter the NumPy array. This indexing returns elements that have a true value for the Boolean expression:"
   ]
  },
  {
   "cell_type": "code",
   "execution_count": 26,
   "id": "afe64d0b-43d3-419b-aa42-aafaba59408a",
   "metadata": {},
   "outputs": [
    {
     "name": "stdout",
     "output_type": "stream",
     "text": [
      "Orignial Array:\n",
      " [21 23 25 27 29 31 33 35 37 39]\n"
     ]
    }
   ],
   "source": [
    "# Create NumPy Array\n",
    "arr = np.arange(21,41,2)\n",
    "print(\"Orignial Array:\\n\",arr)"
   ]
  },
  {
   "cell_type": "code",
   "execution_count": 27,
   "id": "2d20add4-7240-42f5-aecb-c886ffe72d28",
   "metadata": {},
   "outputs": [
    {
     "name": "stdout",
     "output_type": "stream",
     "text": [
      "After Boolean Condition: [31 33 35 37 39]\n"
     ]
    }
   ],
   "source": [
    "# Boolean Indexing\n",
    "print(\"After Boolean Condition:\",arr[arr>30])"
   ]
  },
  {
   "cell_type": "markdown",
   "id": "9c7a8439-2435-4ecf-9532-248d811817c1",
   "metadata": {},
   "source": [
    "**Fancy indexing** is a special type of indexing in which elements of an array are selected by an array of indices. This means we pass the array of indices in brackets. Fancy indexing also supports multi-dimensional arrays. This will help us to easily select and modify a complex multi-dimensional set of arrays."
   ]
  },
  {
   "cell_type": "code",
   "execution_count": 28,
   "id": "8b43f753-00dd-4009-a86c-9b9e05055be4",
   "metadata": {},
   "outputs": [
    {
     "name": "stdout",
     "output_type": "stream",
     "text": [
      "Orignial Array:\n",
      " [[ 1  2  3  4]\n",
      " [ 5  6  7  8]\n",
      " [ 9 10 11 12]\n",
      " [13 14 15 16]\n",
      " [17 18 19 20]]\n"
     ]
    }
   ],
   "source": [
    "# Create NumPy Array\n",
    "arr = np.arange(1,21).reshape(5,4)\n",
    "print(\"Orignial Array:\\n\",arr)"
   ]
  },
  {
   "cell_type": "code",
   "execution_count": 29,
   "id": "d2e64f06-bd67-4133-b5d5-7ba7eb381b31",
   "metadata": {},
   "outputs": [
    {
     "name": "stdout",
     "output_type": "stream",
     "text": [
      "Selected 1st and 2nd Row:\n",
      " [[ 5  6  7  8]\n",
      " [ 9 10 11 12]]\n"
     ]
    }
   ],
   "source": [
    "# Selecting 2nd and 3rd row\n",
    "indices = [1,2]\n",
    "print(\"Selected 1st and 2nd Row:\\n\", arr[indices])"
   ]
  },
  {
   "cell_type": "code",
   "execution_count": 30,
   "id": "629adead-20c2-48de-b4bb-a2ffe461ab4c",
   "metadata": {},
   "outputs": [
    {
     "name": "stdout",
     "output_type": "stream",
     "text": [
      "Selected 3rd and 4th Row:\n",
      " [[ 9 10 11 12]\n",
      " [13 14 15 16]]\n"
     ]
    }
   ],
   "source": [
    "# Selecting 3nd and 4th row\n",
    "indices = [2,3]\n",
    "print(\"Selected 3rd and 4th Row:\\n\", arr[indices])"
   ]
  },
  {
   "cell_type": "markdown",
   "id": "75b2312e-6046-4d1b-82f2-f42c156d76fc",
   "metadata": {},
   "source": [
    "## Creating pandas DataFrames"
   ]
  },
  {
   "cell_type": "code",
   "execution_count": 31,
   "id": "42075c04-1833-4e43-b4a6-d6867ee4f428",
   "metadata": {},
   "outputs": [
    {
     "data": {
      "text/html": [
       "<div>\n",
       "<style scoped>\n",
       "    .dataframe tbody tr th:only-of-type {\n",
       "        vertical-align: middle;\n",
       "    }\n",
       "\n",
       "    .dataframe tbody tr th {\n",
       "        vertical-align: top;\n",
       "    }\n",
       "\n",
       "    .dataframe thead th {\n",
       "        text-align: right;\n",
       "    }\n",
       "</style>\n",
       "<table border=\"1\" class=\"dataframe\">\n",
       "  <thead>\n",
       "    <tr style=\"text-align: right;\">\n",
       "      <th></th>\n",
       "    </tr>\n",
       "  </thead>\n",
       "  <tbody>\n",
       "  </tbody>\n",
       "</table>\n",
       "</div>"
      ],
      "text/plain": [
       "Empty DataFrame\n",
       "Columns: []\n",
       "Index: []"
      ]
     },
     "execution_count": 31,
     "metadata": {},
     "output_type": "execute_result"
    }
   ],
   "source": [
    "# Import pandas library\n",
    "import pandas as pd\n",
    "\n",
    "# Create empty DataFrame\n",
    "df = pd.DataFrame()\n",
    "\n",
    "# Header of dataframe.\n",
    "df.head()"
   ]
  },
  {
   "cell_type": "code",
   "execution_count": 32,
   "id": "0f2e7581-40cf-4ee5-bd93-fe566acaca99",
   "metadata": {},
   "outputs": [
    {
     "data": {
      "text/html": [
       "<div>\n",
       "<style scoped>\n",
       "    .dataframe tbody tr th:only-of-type {\n",
       "        vertical-align: middle;\n",
       "    }\n",
       "\n",
       "    .dataframe tbody tr th {\n",
       "        vertical-align: top;\n",
       "    }\n",
       "\n",
       "    .dataframe thead th {\n",
       "        text-align: right;\n",
       "    }\n",
       "</style>\n",
       "<table border=\"1\" class=\"dataframe\">\n",
       "  <thead>\n",
       "    <tr style=\"text-align: right;\">\n",
       "      <th></th>\n",
       "      <th>Name</th>\n",
       "      <th>Age</th>\n",
       "    </tr>\n",
       "  </thead>\n",
       "  <tbody>\n",
       "    <tr>\n",
       "      <th>0</th>\n",
       "      <td>Vijay</td>\n",
       "      <td>23</td>\n",
       "    </tr>\n",
       "    <tr>\n",
       "      <th>1</th>\n",
       "      <td>Sundar</td>\n",
       "      <td>45</td>\n",
       "    </tr>\n",
       "    <tr>\n",
       "      <th>2</th>\n",
       "      <td>Satyam</td>\n",
       "      <td>46</td>\n",
       "    </tr>\n",
       "    <tr>\n",
       "      <th>3</th>\n",
       "      <td>Indira</td>\n",
       "      <td>52</td>\n",
       "    </tr>\n",
       "  </tbody>\n",
       "</table>\n",
       "</div>"
      ],
      "text/plain": [
       "     Name  Age\n",
       "0   Vijay   23\n",
       "1  Sundar   45\n",
       "2  Satyam   46\n",
       "3  Indira   52"
      ]
     },
     "execution_count": 32,
     "metadata": {},
     "output_type": "execute_result"
    }
   ],
   "source": [
    "# Create dictionary of list\n",
    "data = {'Name': ['Vijay', 'Sundar', 'Satyam', 'Indira'], 'Age': [23, 45,\n",
    "46, 52 ]}\n",
    "\n",
    "# Create the pandas DataFrame\n",
    "df = pd.DataFrame(data)\n",
    "\n",
    "# Header of dataframe.\n",
    "df.head ()"
   ]
  },
  {
   "cell_type": "code",
   "execution_count": 33,
   "id": "e744bacb-6fbf-421a-ad1e-8209a81b9c3d",
   "metadata": {},
   "outputs": [
    {
     "data": {
      "text/html": [
       "<div>\n",
       "<style scoped>\n",
       "    .dataframe tbody tr th:only-of-type {\n",
       "        vertical-align: middle;\n",
       "    }\n",
       "\n",
       "    .dataframe tbody tr th {\n",
       "        vertical-align: top;\n",
       "    }\n",
       "\n",
       "    .dataframe thead th {\n",
       "        text-align: right;\n",
       "    }\n",
       "</style>\n",
       "<table border=\"1\" class=\"dataframe\">\n",
       "  <thead>\n",
       "    <tr style=\"text-align: right;\">\n",
       "      <th></th>\n",
       "      <th>Name</th>\n",
       "      <th>Age</th>\n",
       "    </tr>\n",
       "  </thead>\n",
       "  <tbody>\n",
       "    <tr>\n",
       "      <th>0</th>\n",
       "      <td>Vijay</td>\n",
       "      <td>23</td>\n",
       "    </tr>\n",
       "    <tr>\n",
       "      <th>1</th>\n",
       "      <td>Sundar</td>\n",
       "      <td>25</td>\n",
       "    </tr>\n",
       "    <tr>\n",
       "      <th>2</th>\n",
       "      <td>Shankar</td>\n",
       "      <td>26</td>\n",
       "    </tr>\n",
       "  </tbody>\n",
       "</table>\n",
       "</div>"
      ],
      "text/plain": [
       "      Name  Age\n",
       "0    Vijay   23\n",
       "1   Sundar   25\n",
       "2  Shankar   26"
      ]
     },
     "execution_count": 33,
     "metadata": {},
     "output_type": "execute_result"
    }
   ],
   "source": [
    "# Pandas DataFrame by lists of dicts.\n",
    "# Initialise data to lists.\n",
    "\n",
    "data =[ {'Name': 'Vijay', 'Age': 23},{'Name': 'Sundar', 'Age': 25},{'Name':\n",
    "'Shankar', 'Age': 26}]\n",
    "\n",
    "# Creates DataFrame.\n",
    "df = pd.DataFrame(data,columns=['Name','Age'])\n",
    "\n",
    "# Print dataframe header\n",
    "df.head()"
   ]
  },
  {
   "cell_type": "code",
   "execution_count": 34,
   "id": "34c46e42-4eb7-43f0-8dc8-bcc424a62c0d",
   "metadata": {},
   "outputs": [
    {
     "data": {
      "text/html": [
       "<div>\n",
       "<style scoped>\n",
       "    .dataframe tbody tr th:only-of-type {\n",
       "        vertical-align: middle;\n",
       "    }\n",
       "\n",
       "    .dataframe tbody tr th {\n",
       "        vertical-align: top;\n",
       "    }\n",
       "\n",
       "    .dataframe thead th {\n",
       "        text-align: right;\n",
       "    }\n",
       "</style>\n",
       "<table border=\"1\" class=\"dataframe\">\n",
       "  <thead>\n",
       "    <tr style=\"text-align: right;\">\n",
       "      <th></th>\n",
       "      <th>Name</th>\n",
       "      <th>Age</th>\n",
       "    </tr>\n",
       "  </thead>\n",
       "  <tbody>\n",
       "    <tr>\n",
       "      <th>0</th>\n",
       "      <td>Vijay</td>\n",
       "      <td>23</td>\n",
       "    </tr>\n",
       "    <tr>\n",
       "      <th>1</th>\n",
       "      <td>Sundar</td>\n",
       "      <td>45</td>\n",
       "    </tr>\n",
       "    <tr>\n",
       "      <th>2</th>\n",
       "      <td>Satyam</td>\n",
       "      <td>46</td>\n",
       "    </tr>\n",
       "    <tr>\n",
       "      <th>3</th>\n",
       "      <td>Indira</td>\n",
       "      <td>52</td>\n",
       "    </tr>\n",
       "  </tbody>\n",
       "</table>\n",
       "</div>"
      ],
      "text/plain": [
       "     Name  Age\n",
       "0   Vijay   23\n",
       "1  Sundar   45\n",
       "2  Satyam   46\n",
       "3  Indira   52"
      ]
     },
     "execution_count": 34,
     "metadata": {},
     "output_type": "execute_result"
    }
   ],
   "source": [
    "# Creating DataFrame using list of tuples.\n",
    "data = [('Vijay', 23),( 'Sundar', 45), ('Satyam', 46), ('Indira',52)]\n",
    "\n",
    "# Create dataframe\n",
    "df = pd.DataFrame(data, columns=['Name','Age'])\n",
    "\n",
    "# Print dataframe header\n",
    "df.head()"
   ]
  },
  {
   "cell_type": "code",
   "execution_count": 35,
   "id": "7ecd08e2-a754-491e-949f-29688796b006",
   "metadata": {},
   "outputs": [
    {
     "data": {
      "text/plain": [
       "0     Ajay\n",
       "1      Jay\n",
       "2    Vijay\n",
       "dtype: object"
      ]
     },
     "execution_count": 35,
     "metadata": {},
     "output_type": "execute_result"
    }
   ],
   "source": [
    "# Creating Pandas Series using Dictionary\n",
    "dict1 = {0 : 'Ajay', 1 : 'Jay', 2 : 'Vijay'}\n",
    "\n",
    "# Create Pandas Series\n",
    "series = pd.Series(dict1)\n",
    "\n",
    "#show series\n",
    "series\n",
    "\n"
   ]
  },
  {
   "cell_type": "code",
   "execution_count": 36,
   "id": "24f88451-26da-425c-95f5-261498cb54f7",
   "metadata": {},
   "outputs": [
    {
     "data": {
      "text/plain": [
       "0    51\n",
       "1    65\n",
       "2    48\n",
       "3    59\n",
       "4    68\n",
       "dtype: int64"
      ]
     },
     "execution_count": 36,
     "metadata": {},
     "output_type": "execute_result"
    }
   ],
   "source": [
    "#Load Pandas and NumPy libraries\n",
    "import pandas as pd\n",
    "import numpy as np\n",
    "\n",
    "# Create NumPy array\n",
    "arr = np.array([51,65,48,59, 68])\n",
    "\n",
    "# Create Pandas Series\n",
    "series = pd.Series(arr)\n",
    "\n",
    "series"
   ]
  },
  {
   "cell_type": "code",
   "execution_count": 37,
   "id": "92f5f987-3e3d-405f-a7a5-f4f4203e7e69",
   "metadata": {},
   "outputs": [
    {
     "data": {
      "text/plain": [
       "0    10\n",
       "1    10\n",
       "2    10\n",
       "3    10\n",
       "4    10\n",
       "5    10\n",
       "dtype: int64"
      ]
     },
     "execution_count": 37,
     "metadata": {},
     "output_type": "execute_result"
    }
   ],
   "source": [
    "# load Pandas and NumPy\n",
    "import pandas as pd\n",
    "import numpy as np\n",
    "\n",
    "# Create Pandas Series\n",
    "series = pd.Series(10, index=[0, 1, 2, 3, 4, 5])\n",
    "series\n"
   ]
  },
  {
   "cell_type": "code",
   "execution_count": 38,
   "id": "7515291b-7c74-4c6d-b6af-c182066bade5",
   "metadata": {},
   "outputs": [
    {
     "data": {
      "text/html": [
       "<div>\n",
       "<style scoped>\n",
       "    .dataframe tbody tr th:only-of-type {\n",
       "        vertical-align: middle;\n",
       "    }\n",
       "\n",
       "    .dataframe tbody tr th {\n",
       "        vertical-align: top;\n",
       "    }\n",
       "\n",
       "    .dataframe thead th {\n",
       "        text-align: right;\n",
       "    }\n",
       "</style>\n",
       "<table border=\"1\" class=\"dataframe\">\n",
       "  <thead>\n",
       "    <tr style=\"text-align: right;\">\n",
       "      <th></th>\n",
       "      <th>Country</th>\n",
       "      <th>CountryID</th>\n",
       "      <th>Continent</th>\n",
       "      <th>Adolescent fertility rate (%)</th>\n",
       "      <th>Adult literacy rate (%)</th>\n",
       "      <th>Gross national income per capita (PPP international $)</th>\n",
       "      <th>Net primary school enrolment ratio female (%)</th>\n",
       "      <th>Net primary school enrolment ratio male (%)</th>\n",
       "      <th>Population (in thousands) total</th>\n",
       "    </tr>\n",
       "  </thead>\n",
       "  <tbody>\n",
       "    <tr>\n",
       "      <th>0</th>\n",
       "      <td>Afghanistan</td>\n",
       "      <td>1</td>\n",
       "      <td>1</td>\n",
       "      <td>151.0</td>\n",
       "      <td>28.0</td>\n",
       "      <td>NaN</td>\n",
       "      <td>NaN</td>\n",
       "      <td>NaN</td>\n",
       "      <td>26088.0</td>\n",
       "    </tr>\n",
       "    <tr>\n",
       "      <th>1</th>\n",
       "      <td>Albania</td>\n",
       "      <td>2</td>\n",
       "      <td>2</td>\n",
       "      <td>27.0</td>\n",
       "      <td>98.7</td>\n",
       "      <td>6000.0</td>\n",
       "      <td>93.0</td>\n",
       "      <td>94.0</td>\n",
       "      <td>3172.0</td>\n",
       "    </tr>\n",
       "    <tr>\n",
       "      <th>2</th>\n",
       "      <td>Algeria</td>\n",
       "      <td>3</td>\n",
       "      <td>3</td>\n",
       "      <td>6.0</td>\n",
       "      <td>69.9</td>\n",
       "      <td>5940.0</td>\n",
       "      <td>94.0</td>\n",
       "      <td>96.0</td>\n",
       "      <td>33351.0</td>\n",
       "    </tr>\n",
       "    <tr>\n",
       "      <th>3</th>\n",
       "      <td>Andorra</td>\n",
       "      <td>4</td>\n",
       "      <td>2</td>\n",
       "      <td>NaN</td>\n",
       "      <td>NaN</td>\n",
       "      <td>NaN</td>\n",
       "      <td>83.0</td>\n",
       "      <td>83.0</td>\n",
       "      <td>74.0</td>\n",
       "    </tr>\n",
       "    <tr>\n",
       "      <th>4</th>\n",
       "      <td>Angola</td>\n",
       "      <td>5</td>\n",
       "      <td>3</td>\n",
       "      <td>146.0</td>\n",
       "      <td>67.4</td>\n",
       "      <td>3890.0</td>\n",
       "      <td>49.0</td>\n",
       "      <td>51.0</td>\n",
       "      <td>16557.0</td>\n",
       "    </tr>\n",
       "  </tbody>\n",
       "</table>\n",
       "</div>"
      ],
      "text/plain": [
       "       Country  CountryID  Continent  Adolescent fertility rate (%)  \\\n",
       "0  Afghanistan          1          1                          151.0   \n",
       "1      Albania          2          2                           27.0   \n",
       "2      Algeria          3          3                            6.0   \n",
       "3      Andorra          4          2                            NaN   \n",
       "4       Angola          5          3                          146.0   \n",
       "\n",
       "   Adult literacy rate (%)  \\\n",
       "0                     28.0   \n",
       "1                     98.7   \n",
       "2                     69.9   \n",
       "3                      NaN   \n",
       "4                     67.4   \n",
       "\n",
       "   Gross national income per capita (PPP international $)  \\\n",
       "0                                                NaN        \n",
       "1                                             6000.0        \n",
       "2                                             5940.0        \n",
       "3                                                NaN        \n",
       "4                                             3890.0        \n",
       "\n",
       "   Net primary school enrolment ratio female (%)  \\\n",
       "0                                            NaN   \n",
       "1                                           93.0   \n",
       "2                                           94.0   \n",
       "3                                           83.0   \n",
       "4                                           49.0   \n",
       "\n",
       "   Net primary school enrolment ratio male (%)  \\\n",
       "0                                          NaN   \n",
       "1                                         94.0   \n",
       "2                                         96.0   \n",
       "3                                         83.0   \n",
       "4                                         51.0   \n",
       "\n",
       "   Population (in thousands) total  \n",
       "0                          26088.0  \n",
       "1                           3172.0  \n",
       "2                          33351.0  \n",
       "3                             74.0  \n",
       "4                          16557.0  "
      ]
     },
     "execution_count": 38,
     "metadata": {},
     "output_type": "execute_result"
    }
   ],
   "source": [
    "#Import pandas\n",
    "import pandas as pd\n",
    "\n",
    "# Load data using read_csv()\n",
    "df = pd.read_csv(\"WHO_first9cols.csv\")\n",
    "\n",
    "# Show initial 5 records\n",
    "df.head()\n"
   ]
  },
  {
   "cell_type": "code",
   "execution_count": 39,
   "id": "3d7a073e-4f46-4f07-88b0-bbaa5023fac7",
   "metadata": {},
   "outputs": [
    {
     "data": {
      "text/plain": [
       "pandas.core.series.Series"
      ]
     },
     "execution_count": 39,
     "metadata": {},
     "output_type": "execute_result"
    }
   ],
   "source": [
    "# Select a series\n",
    "country_series=df['Country']\n",
    "# check datatype of series\n",
    "type(country_series)"
   ]
  },
  {
   "cell_type": "code",
   "execution_count": 40,
   "id": "ff9b2bb7-e7ec-4ce9-a2c4-3b668382e945",
   "metadata": {},
   "outputs": [
    {
     "name": "stdout",
     "output_type": "stream",
     "text": [
      "Shape: (202, 9)\n"
     ]
    }
   ],
   "source": [
    "# Show the shape of DataFrame\n",
    "print(\"Shape:\", df.shape)"
   ]
  },
  {
   "cell_type": "code",
   "execution_count": 41,
   "id": "bcf0f038-324d-4285-9cb6-5350787449a8",
   "metadata": {},
   "outputs": [
    {
     "name": "stdout",
     "output_type": "stream",
     "text": [
      "List of Columns: Index(['Country', 'CountryID', 'Continent', 'Adolescent fertility rate (%)',\n",
      "       'Adult literacy rate (%)',\n",
      "       'Gross national income per capita (PPP international $)',\n",
      "       'Net primary school enrolment ratio female (%)',\n",
      "       'Net primary school enrolment ratio male (%)',\n",
      "       'Population (in thousands) total'],\n",
      "      dtype='object')\n"
     ]
    }
   ],
   "source": [
    "# Check the column list of DataFrame\n",
    "print(\"List of Columns:\", df.columns)"
   ]
  },
  {
   "cell_type": "code",
   "execution_count": 42,
   "id": "1ce40647-188e-4fc3-83e0-f6ddd2227101",
   "metadata": {},
   "outputs": [
    {
     "name": "stdout",
     "output_type": "stream",
     "text": [
      "Data types: Country                                                    object\n",
      "CountryID                                                   int64\n",
      "Continent                                                   int64\n",
      "Adolescent fertility rate (%)                             float64\n",
      "Adult literacy rate (%)                                   float64\n",
      "Gross national income per capita (PPP international $)    float64\n",
      "Net primary school enrolment ratio female (%)             float64\n",
      "Net primary school enrolment ratio male (%)               float64\n",
      "Population (in thousands) total                           float64\n",
      "dtype: object\n"
     ]
    }
   ],
   "source": [
    "# Show the datatypes of columns\n",
    "print(\"Data types:\", df.dtypes)"
   ]
  },
  {
   "cell_type": "code",
   "execution_count": 43,
   "id": "bc6a05a1-438b-41a3-b306-270ce17b3841",
   "metadata": {},
   "outputs": [
    {
     "data": {
      "text/plain": [
       "197               Vietnam\n",
       "198    West Bank and Gaza\n",
       "199                 Yemen\n",
       "200                Zambia\n",
       "201              Zimbabwe\n",
       "Name: Country, dtype: object"
      ]
     },
     "execution_count": 43,
     "metadata": {},
     "output_type": "execute_result"
    }
   ],
   "source": [
    "# Pandas Series Slicing\n",
    "country_series[-5:]"
   ]
  },
  {
   "cell_type": "markdown",
   "id": "10c6e9c8",
   "metadata": {},
   "source": [
    "## Taxi Company Use Case"
   ]
  },
  {
   "cell_type": "code",
   "execution_count": 44,
   "id": "09a1fc41",
   "metadata": {},
   "outputs": [
    {
     "data": {
      "text/html": [
       "<div>\n",
       "<style scoped>\n",
       "    .dataframe tbody tr th:only-of-type {\n",
       "        vertical-align: middle;\n",
       "    }\n",
       "\n",
       "    .dataframe tbody tr th {\n",
       "        vertical-align: top;\n",
       "    }\n",
       "\n",
       "    .dataframe thead th {\n",
       "        text-align: right;\n",
       "    }\n",
       "</style>\n",
       "<table border=\"1\" class=\"dataframe\">\n",
       "  <thead>\n",
       "    <tr style=\"text-align: right;\">\n",
       "      <th></th>\n",
       "      <th>EmpNr</th>\n",
       "      <th>Dest</th>\n",
       "    </tr>\n",
       "  </thead>\n",
       "  <tbody>\n",
       "    <tr>\n",
       "      <th>0</th>\n",
       "      <td>5</td>\n",
       "      <td>The Hague</td>\n",
       "    </tr>\n",
       "    <tr>\n",
       "      <th>1</th>\n",
       "      <td>3</td>\n",
       "      <td>Amsterdam</td>\n",
       "    </tr>\n",
       "    <tr>\n",
       "      <th>2</th>\n",
       "      <td>9</td>\n",
       "      <td>Rotterdam</td>\n",
       "    </tr>\n",
       "  </tbody>\n",
       "</table>\n",
       "</div>"
      ],
      "text/plain": [
       "   EmpNr       Dest\n",
       "0      5  The Hague\n",
       "1      3  Amsterdam\n",
       "2      9  Rotterdam"
      ]
     },
     "execution_count": 44,
     "metadata": {},
     "output_type": "execute_result"
    }
   ],
   "source": [
    "#Import pandas\n",
    "import pandas as pd\n",
    "\n",
    "# Load data using read_csv()\n",
    "\n",
    "dest = pd.read_csv(\"dest.csv\")\n",
    "\n",
    "# Show DataFrame\n",
    "dest.head()\n",
    "\n"
   ]
  },
  {
   "cell_type": "code",
   "execution_count": 45,
   "id": "b37dea0c",
   "metadata": {},
   "outputs": [
    {
     "data": {
      "text/html": [
       "<div>\n",
       "<style scoped>\n",
       "    .dataframe tbody tr th:only-of-type {\n",
       "        vertical-align: middle;\n",
       "    }\n",
       "\n",
       "    .dataframe tbody tr th {\n",
       "        vertical-align: top;\n",
       "    }\n",
       "\n",
       "    .dataframe thead th {\n",
       "        text-align: right;\n",
       "    }\n",
       "</style>\n",
       "<table border=\"1\" class=\"dataframe\">\n",
       "  <thead>\n",
       "    <tr style=\"text-align: right;\">\n",
       "      <th></th>\n",
       "      <th>EmpNr</th>\n",
       "      <th>Amount</th>\n",
       "    </tr>\n",
       "  </thead>\n",
       "  <tbody>\n",
       "    <tr>\n",
       "      <th>0</th>\n",
       "      <td>5</td>\n",
       "      <td>10.0</td>\n",
       "    </tr>\n",
       "    <tr>\n",
       "      <th>1</th>\n",
       "      <td>9</td>\n",
       "      <td>5.0</td>\n",
       "    </tr>\n",
       "    <tr>\n",
       "      <th>2</th>\n",
       "      <td>7</td>\n",
       "      <td>2.5</td>\n",
       "    </tr>\n",
       "  </tbody>\n",
       "</table>\n",
       "</div>"
      ],
      "text/plain": [
       "   EmpNr  Amount\n",
       "0      5    10.0\n",
       "1      9     5.0\n",
       "2      7     2.5"
      ]
     },
     "execution_count": 45,
     "metadata": {},
     "output_type": "execute_result"
    }
   ],
   "source": [
    "#Load data using read_csv()\n",
    "tips = pd.read_csv(\"tips.csv\")\n",
    "# Show DataFrame\n",
    "\n",
    "tips.head()"
   ]
  },
  {
   "cell_type": "code",
   "execution_count": 46,
   "id": "bfaca4f7",
   "metadata": {},
   "outputs": [
    {
     "data": {
      "text/html": [
       "<div>\n",
       "<style scoped>\n",
       "    .dataframe tbody tr th:only-of-type {\n",
       "        vertical-align: middle;\n",
       "    }\n",
       "\n",
       "    .dataframe tbody tr th {\n",
       "        vertical-align: top;\n",
       "    }\n",
       "\n",
       "    .dataframe thead th {\n",
       "        text-align: right;\n",
       "    }\n",
       "</style>\n",
       "<table border=\"1\" class=\"dataframe\">\n",
       "  <thead>\n",
       "    <tr style=\"text-align: right;\">\n",
       "      <th></th>\n",
       "      <th>EmpNr</th>\n",
       "      <th>Dest</th>\n",
       "      <th>Amount</th>\n",
       "    </tr>\n",
       "  </thead>\n",
       "  <tbody>\n",
       "    <tr>\n",
       "      <th>0</th>\n",
       "      <td>5</td>\n",
       "      <td>The Hague</td>\n",
       "      <td>10.0</td>\n",
       "    </tr>\n",
       "    <tr>\n",
       "      <th>1</th>\n",
       "      <td>9</td>\n",
       "      <td>Rotterdam</td>\n",
       "      <td>5.0</td>\n",
       "    </tr>\n",
       "  </tbody>\n",
       "</table>\n",
       "</div>"
      ],
      "text/plain": [
       "   EmpNr       Dest  Amount\n",
       "0      5  The Hague    10.0\n",
       "1      9  Rotterdam     5.0"
      ]
     },
     "execution_count": 46,
     "metadata": {},
     "output_type": "execute_result"
    }
   ],
   "source": [
    "# Join DataFrames using Inner Join\n",
    "df_inner= pd.merge(dest, tips, on='EmpNr', how='inner')\n",
    "df_inner.head()"
   ]
  },
  {
   "cell_type": "markdown",
   "id": "4d137d84",
   "metadata": {},
   "source": [
    "## Creating pivot tables"
   ]
  },
  {
   "cell_type": "code",
   "execution_count": 47,
   "id": "2fe37918",
   "metadata": {},
   "outputs": [
    {
     "data": {
      "text/html": [
       "<div>\n",
       "<style scoped>\n",
       "    .dataframe tbody tr th:only-of-type {\n",
       "        vertical-align: middle;\n",
       "    }\n",
       "\n",
       "    .dataframe tbody tr th {\n",
       "        vertical-align: top;\n",
       "    }\n",
       "\n",
       "    .dataframe thead th {\n",
       "        text-align: right;\n",
       "    }\n",
       "</style>\n",
       "<table border=\"1\" class=\"dataframe\">\n",
       "  <thead>\n",
       "    <tr style=\"text-align: right;\">\n",
       "      <th></th>\n",
       "      <th>Weather</th>\n",
       "      <th>Food</th>\n",
       "      <th>Price</th>\n",
       "      <th>Number</th>\n",
       "    </tr>\n",
       "  </thead>\n",
       "  <tbody>\n",
       "    <tr>\n",
       "      <th>0</th>\n",
       "      <td>cold</td>\n",
       "      <td>soup</td>\n",
       "      <td>3.745401</td>\n",
       "      <td>8</td>\n",
       "    </tr>\n",
       "    <tr>\n",
       "      <th>1</th>\n",
       "      <td>hot</td>\n",
       "      <td>soup</td>\n",
       "      <td>9.507143</td>\n",
       "      <td>8</td>\n",
       "    </tr>\n",
       "    <tr>\n",
       "      <th>2</th>\n",
       "      <td>cold</td>\n",
       "      <td>icecream</td>\n",
       "      <td>7.319939</td>\n",
       "      <td>8</td>\n",
       "    </tr>\n",
       "    <tr>\n",
       "      <th>3</th>\n",
       "      <td>hot</td>\n",
       "      <td>chocolate</td>\n",
       "      <td>5.986585</td>\n",
       "      <td>8</td>\n",
       "    </tr>\n",
       "    <tr>\n",
       "      <th>4</th>\n",
       "      <td>cold</td>\n",
       "      <td>icecream</td>\n",
       "      <td>1.560186</td>\n",
       "      <td>8</td>\n",
       "    </tr>\n",
       "    <tr>\n",
       "      <th>5</th>\n",
       "      <td>hot</td>\n",
       "      <td>icecream</td>\n",
       "      <td>1.559945</td>\n",
       "      <td>8</td>\n",
       "    </tr>\n",
       "    <tr>\n",
       "      <th>6</th>\n",
       "      <td>cold</td>\n",
       "      <td>soup</td>\n",
       "      <td>0.580836</td>\n",
       "      <td>8</td>\n",
       "    </tr>\n",
       "  </tbody>\n",
       "</table>\n",
       "</div>"
      ],
      "text/plain": [
       "  Weather       Food     Price  Number\n",
       "0    cold       soup  3.745401       8\n",
       "1     hot       soup  9.507143       8\n",
       "2    cold   icecream  7.319939       8\n",
       "3     hot  chocolate  5.986585       8\n",
       "4    cold   icecream  1.560186       8\n",
       "5     hot   icecream  1.559945       8\n",
       "6    cold       soup  0.580836       8"
      ]
     },
     "execution_count": 47,
     "metadata": {},
     "output_type": "execute_result"
    }
   ],
   "source": [
    "# Import pandas\n",
    "import pandas as pd\n",
    "# Load data using read_csv()\n",
    "\n",
    "purchase = pd.read_csv(\"purchase.csv\")\n",
    "# Show initial 10 records\n",
    "\n",
    "purchase.head(10)"
   ]
  },
  {
   "cell_type": "code",
   "execution_count": 48,
   "id": "c19e61c5",
   "metadata": {},
   "outputs": [
    {
     "name": "stderr",
     "output_type": "stream",
     "text": [
      "/var/folders/mz/gry90mxx4gvbsvhp15tw7bhh0000gn/T/ipykernel_97111/1816314235.py:3: FutureWarning: The provided callable <function sum at 0x118ad1d00> is currently using DataFrameGroupBy.sum. In a future version of pandas, the provided callable will be used directly. To keep current behavior pass the string \"sum\" instead.\n",
      "  pd.pivot_table(purchase,values='Number', index=['Weather',],\n"
     ]
    },
    {
     "data": {
      "text/html": [
       "<div>\n",
       "<style scoped>\n",
       "    .dataframe tbody tr th:only-of-type {\n",
       "        vertical-align: middle;\n",
       "    }\n",
       "\n",
       "    .dataframe tbody tr th {\n",
       "        vertical-align: top;\n",
       "    }\n",
       "\n",
       "    .dataframe thead th {\n",
       "        text-align: right;\n",
       "    }\n",
       "</style>\n",
       "<table border=\"1\" class=\"dataframe\">\n",
       "  <thead>\n",
       "    <tr style=\"text-align: right;\">\n",
       "      <th>Food</th>\n",
       "      <th>chocolate</th>\n",
       "      <th>icecream</th>\n",
       "      <th>soup</th>\n",
       "    </tr>\n",
       "    <tr>\n",
       "      <th>Weather</th>\n",
       "      <th></th>\n",
       "      <th></th>\n",
       "      <th></th>\n",
       "    </tr>\n",
       "  </thead>\n",
       "  <tbody>\n",
       "    <tr>\n",
       "      <th>cold</th>\n",
       "      <td>NaN</td>\n",
       "      <td>16.0</td>\n",
       "      <td>16.0</td>\n",
       "    </tr>\n",
       "    <tr>\n",
       "      <th>hot</th>\n",
       "      <td>8.0</td>\n",
       "      <td>8.0</td>\n",
       "      <td>8.0</td>\n",
       "    </tr>\n",
       "  </tbody>\n",
       "</table>\n",
       "</div>"
      ],
      "text/plain": [
       "Food     chocolate  icecream  soup\n",
       "Weather                           \n",
       "cold           NaN      16.0  16.0\n",
       "hot            8.0       8.0   8.0"
      ]
     },
     "execution_count": 48,
     "metadata": {},
     "output_type": "execute_result"
    }
   ],
   "source": [
    "# Summarise dataframe using pivot table\n",
    "\n",
    "pd.pivot_table(purchase,values='Number', index=['Weather',],\n",
    "               columns=['Food'], aggfunc=np.sum)"
   ]
  }
 ],
 "metadata": {
  "kernelspec": {
   "display_name": "Python (data_analysis)",
   "language": "python",
   "name": "data_analysis"
  },
  "language_info": {
   "codemirror_mode": {
    "name": "ipython",
    "version": 3
   },
   "file_extension": ".py",
   "mimetype": "text/x-python",
   "name": "python",
   "nbconvert_exporter": "python",
   "pygments_lexer": "ipython3",
   "version": "3.12.7"
  }
 },
 "nbformat": 4,
 "nbformat_minor": 5
}
